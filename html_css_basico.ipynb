{
 "cells": [
  {
   "attachments": {},
   "cell_type": "markdown",
   "metadata": {},
   "source": [
    "# Introdução ao Web Scraping com Python\n",
    "\n",
    "## Michel Souza Santana\n",
    "\n",
    "* Data de início: 09 de maio de 2023\n",
    "\n",
    "* Duração: 60 horas\n",
    "\n",
    "> Descrição: \n",
    "\n",
    "Bem-vindo ao curso básico de HTML e CSS! Este curso tem como objetivo apresentar aos participantes os conceitos fundamentais dessas duas linguagens utilizadas para a criação de páginas web. Durante as próximas semanas, você aprenderá como criar uma página web simples, aplicar estilos a elementos e criar layouts usando CSS. Além disso, você também aprenderá a criar formulários para coletar informações do usuário. Com as habilidades adquiridas neste curso, você estará preparado para criar suas próprias páginas web básicas e estilizá-las com CSS. Não é necessário nenhum conhecimento prévio em programação para participar deste curso. Vamos começar!"
   ]
  },
  {
   "attachments": {},
   "cell_type": "markdown",
   "metadata": {},
   "source": [
    "## Índice\n",
    "\n",
    "* 1 - Introdução\n",
    "    * 1.1 Apresentação do curso\n",
    "    * 1.2 O que é HTML e CSS?\n",
    "    * 1.3 Como funcionam HTML e CSS juntos?\n",
    "> ...\n",
    "\n",
    "* 2 - Semana 1\n",
    "    * 2.1 Introdução ao HTML\n",
    "    * 2.2 Estrutura básica de uma página HTML\n",
    "    * 2.3 Tags HTML\n",
    "    * 2.4 Criação de uma página HTML simples\n",
    "    * 2.5 Introdução ao CSS\n",
    "    * 2.6 Sintaxe básica de CSS\n",
    "    * 2.7 Propriedades CSS\n",
    "    * 2.8 Estilização da página com CSS\n",
    "> ...\n",
    "\n",
    "* 3 - Semana 2\n",
    "    * 3.1 Uso de listas em HTML\n",
    "    * 3.2 Listas não ordenadas e ordenadas\n",
    "    * 3.3 Estilização de listas com CSS\n",
    "    * 3.4 Criação de links em HTML\n",
    "    * 3.5 Estilização de links com CSS\n",
    "    * 3.6 Box model\n",
    "    * 3.7 Conceito e aplicação no CSS\n",
    "> ...\n",
    "\n",
    "* 4 - Semana 3\n",
    "    * 4.1 Introdução ao layout em CSS\n",
    "    * 4.2 Posicionamento em CSS\n",
    "    * 4.3 Display em CSS\n",
    "    * 4.4 Float em CSS\n",
    "    * 4.5 Criação de uma página com um cabeçalho, uma barra de navegação, uma seção principal e um rodapé\n",
    "    * 4.6 Estilização do layout com CSS\n",
    "> ...\n",
    "\n",
    "* 5 - Semana 4\n",
    "    * 5.1 Formulários em HTML\n",
    "    * 5.2 Criação de formulários para coleta de informações do usuário\n",
    "    * 5.3 Estilização de formulários com CSS\n",
    "    * 5.4 Revisão dos conceitos aprendidos durante o curso\n",
    "    * 5.5 Projeto final: criação de uma página web utilizando os conhecimentos adquiridos durante o curso\n",
    "> ...\n",
    "\n",
    "* 6 - Conclusão\n",
    "    * Revisão do conteúdo aprendido\n",
    "    * Próximos passos após o curso"
   ]
  },
  {
   "attachments": {},
   "cell_type": "markdown",
   "metadata": {},
   "source": [
    "*****"
   ]
  },
  {
   "attachments": {},
   "cell_type": "markdown",
   "metadata": {},
   "source": [
    "## 1 - Introdução"
   ]
  },
  {
   "attachments": {},
   "cell_type": "markdown",
   "metadata": {},
   "source": [
    "### 1.1 Apresentação do curso\n",
    "    \n",
    "Bem-vindo ao curso básico de HTML e CSS! Neste curso, você aprenderá os conceitos fundamentais dessas duas linguagens usadas para criar páginas web. HTML é a linguagem usada para estruturar o conteúdo de uma página web, enquanto CSS é usada para estilizar a página e torná-la visualmente atraente. Durante este curso, você aprenderá como criar uma página web simples, aplicar estilos a elementos e criar layouts usando CSS. Além disso, você também aprenderá a criar formulários para coletar informações do usuário.\n",
    "\n",
    "Não é necessário nenhum conhecimento prévio em programação para participar deste curso. Ao final do curso, você estará preparado para criar suas próprias páginas web básicas e estilizá-las com CSS.\n",
    "\n",
    "O curso é dividido em quatro semanas, com cada semana abordando um conjunto específico de tópicos. Cada tópico incluirá exercícios práticos para ajudá-lo a consolidar o que foi aprendido. Haverá também um projeto final que consolidará tudo o que você aprendeu, permitindo que você crie sua própria página web usando HTML e CSS.\n",
    "\n",
    "Estamos animados para ajudá-lo a aprender HTML e CSS e esperamos que você tenha uma experiência de aprendizado enriquecedora!"
   ]
  },
  {
   "attachments": {},
   "cell_type": "markdown",
   "metadata": {},
   "source": [
    "### 1.2 O que é HTML e CSS?\n",
    "\n",
    "HTML e CSS são duas linguagens de marcação usadas para criar páginas web.\n",
    "\n",
    "HTML (HyperText Markup Language) é a linguagem usada para estruturar o conteúdo de uma página web, definindo elementos como cabeçalhos, parágrafos, imagens, links e outras formas de mídia. O HTML é interpretado pelo navegador da web para exibir o conteúdo de uma página web.\n",
    "\n",
    "CSS (Cascading Style Sheets) é a linguagem usada para estilizar uma página web e torná-la visualmente atraente. O CSS permite controlar a aparência de elementos HTML, como cores, fontes, tamanhos e layout. Usando CSS, é possível criar layouts complexos, efeitos visuais e animações.\n",
    "\n",
    "HTML e CSS são frequentemente usados juntos para criar páginas web interativas e dinâmicas. O HTML fornece a estrutura e o conteúdo de uma página web, enquanto o CSS é usado para estilizá-la e torná-la mais atraente visualmente. Combinados, HTML e CSS permitem criar páginas web atraentes e interativas para uma ampla variedade de finalidades.\n",
    "    "
   ]
  },
  {
   "attachments": {},
   "cell_type": "markdown",
   "metadata": {},
   "source": [
    "### 1.3 Como funcionam HTML e CSS juntos?\n",
    "\n",
    "HTML e CSS trabalham juntos para criar páginas web visualmente atraentes e interativas.\n",
    "\n",
    "O HTML é usado para definir a estrutura de uma página web e o conteúdo que será exibido. Isso inclui a definição de cabeçalhos, parágrafos, imagens, links e outras formas de mídia. Cada elemento HTML tem um nome e um conjunto de propriedades que podem ser usadas para controlar como ele é exibido.\n",
    "\n",
    "O CSS, por sua vez, é usado para estilizar os elementos HTML definidos na página. As regras CSS podem ser aplicadas a elementos individuais ou a grupos de elementos. Por exemplo, é possível usar CSS para definir a cor, a fonte e o tamanho de um cabeçalho em particular, ou para estilizar uma lista de itens.\n",
    "\n",
    "Ao trabalharem juntos, HTML e CSS permitem criar páginas web visualmente atraentes e interativas. O HTML fornece a estrutura da página, enquanto o CSS é usado para estilizá-la e controlar sua aparência. Combinados, esses dois idiomas permitem criar páginas web que podem ser facilmente visualizadas em uma ampla variedade de dispositivos, incluindo computadores, tablets e smartphones."
   ]
  },
  {
   "attachments": {},
   "cell_type": "markdown",
   "metadata": {},
   "source": [
    "## 2 - Semana 1:"
   ]
  },
  {
   "attachments": {},
   "cell_type": "markdown",
   "metadata": {},
   "source": [
    "### 2.1 Introdução ao HTML\n",
    "\n",
    "HTML (Hypertext Markup Language) é a linguagem de marcação padrão usada para criar páginas web. É usada para estruturar o conteúdo da página e definir como ele deve ser exibido pelo navegador.\n",
    "\n",
    "O HTML é composto de uma série de elementos que fornecem informações sobre o conteúdo da página. Cada elemento é identificado por uma tag (etiqueta) que é usada para envolver o conteúdo. As tags são escritas entre colchetes angulares \"<>\" e geralmente vêm em pares, com uma tag de abertura e uma tag de fechamento.\n",
    "\n",
    "Aqui está um exemplo simples de como uma página HTML pode ser estruturada usando tags:"
   ]
  },
  {
   "cell_type": "code",
   "execution_count": null,
   "metadata": {
    "vscode": {
     "languageId": "html"
    }
   },
   "outputs": [],
   "source": [
    "<!DOCTYPE html>\n",
    "<html>\n",
    "  <head>\n",
    "    <title>Minha Página</title>\n",
    "  </head>\n",
    "  <body>\n",
    "    <h1>Título da Página</h1>\n",
    "    <p>Este é um parágrafo de texto.</p>\n",
    "    <ul>\n",
    "      <li>Item de lista 1</li>\n",
    "      <li>Item de lista 2</li>\n",
    "      <li>Item de lista 3</li>\n",
    "    </ul>\n",
    "  </body>\n",
    "</html>\n"
   ]
  },
  {
   "attachments": {},
   "cell_type": "markdown",
   "metadata": {},
   "source": [
    "Neste exemplo, o elemento raiz é a tag < html>. Dentro dele, há duas seções principais: < head> e < body>. A seção < head> contém informações sobre a página, como o título da página. A seção < body> contém todo o conteúdo da página que é exibido diretamente no navegador.\n",
    "\n",
    "Dentro do elemento < body>, há três elementos diferentes: < h1> para o cabeçalho principal, < p> para um parágrafo de texto e < ul> para uma lista não ordenada. Cada item da lista é representado por uma tag < li>.\n",
    "\n",
    "Esta é apenas uma introdução básica ao HTML. Existem muitos outros elementos disponíveis que podem ser usados para criar páginas web mais complexas e interativas."
   ]
  },
  {
   "attachments": {},
   "cell_type": "markdown",
   "metadata": {},
   "source": [
    "### 2.2 Estrutura básica de uma página HTML\n",
    "\n",
    "A estrutura básica de uma página HTML consiste em uma série de elementos que fornecem informações sobre o conteúdo da página e como ela deve ser exibida. Aqui está um exemplo de estrutura básica de uma página HTML:"
   ]
  },
  {
   "cell_type": "code",
   "execution_count": null,
   "metadata": {
    "vscode": {
     "languageId": "html"
    }
   },
   "outputs": [],
   "source": [
    "<!DOCTYPE html>\n",
    "<html>\n",
    "  <head>\n",
    "    <title>Título da página</title>\n",
    "  </head>\n",
    "  <body>\n",
    "    <h1>Minha primeira página</h1>\n",
    "    <p>Bem-vindo ao meu site!</p>\n",
    "  </body>\n",
    "</html>\n"
   ]
  },
  {
   "attachments": {},
   "cell_type": "markdown",
   "metadata": {},
   "source": [
    "Vamos examinar cada elemento individualmente:\n",
    "\n",
    "< !DOCTYPE html>: Define a versão do HTML sendo usada. Neste caso, estamos usando a versão mais recente, HTML5.\n",
    "\n",
    "< html>: Define o elemento raiz do documento HTML. Todos os outros elementos da página estão contidos dentro deste elemento.\n",
    "\n",
    "< head>: Contém informações sobre a página que não são exibidas diretamente no navegador, como o título da página, meta-informações e links para arquivos CSS e JavaScript.\n",
    "\n",
    "< title>: Define o título da página, que é exibido na aba do navegador e nos resultados de pesquisa.\n",
    "\n",
    "< body>: Contém todo o conteúdo da página que é exibido diretamente no navegador.\n",
    "\n",
    "< h1>: Define um cabeçalho principal na página. O número indica a hierarquia do cabeçalho, com < h1> sendo o mais importante.\n",
    "\n",
    "< p>: Define um parágrafo de texto.\n",
    "\n",
    "Essa é apenas uma estrutura básica para uma página HTML. É possível adicionar muitos outros elementos para criar páginas mais complexas e interativas, incluindo imagens, links, formulários e muito mais."
   ]
  },
  {
   "attachments": {},
   "cell_type": "markdown",
   "metadata": {},
   "source": [
    "### 2.3 Tags HTML\n",
    "\n",
    "As tags HTML são elementos utilizados para definir a estrutura e o conteúdo de uma página web. Elas são escritas entre colchetes angulares < > e geralmente vêm em pares, com uma tag de abertura e uma tag de fechamento. A tag de fechamento é identificada pelo símbolo / após o sinal de menor <.\n",
    "\n",
    "Por exemplo, a tag <p> é usada para definir um parágrafo de texto. A tag de abertura <p> indica onde começa o parágrafo, enquanto a tag de fechamento </p> indica onde ele termina:    "
   ]
  },
  {
   "cell_type": "code",
   "execution_count": null,
   "metadata": {
    "vscode": {
     "languageId": "html"
    }
   },
   "outputs": [],
   "source": [
    "<p>Este é um parágrafo de texto.</p>\n"
   ]
  },
  {
   "attachments": {},
   "cell_type": "markdown",
   "metadata": {},
   "source": [
    "Existem muitas outras tags HTML disponíveis que podem ser usadas para definir diferentes tipos de conteúdo. Aqui estão alguns exemplos comuns:\n",
    "\n",
    "< h1> - < h6>: usado para definir títulos e subtítulos;\n",
    "< a>: usado para criar links para outras páginas ou recursos na web;\n",
    "< img>: usado para exibir imagens;\n",
    "< ul> e < ol>: usados para criar listas não ordenadas e ordenadas, respectivamente;\n",
    "< table>: usado para criar tabelas;\n",
    "< form>: usado para criar formulários para coletar informações do usuário.\n",
    "Além disso, existem várias tags que são usadas para criar elementos estruturais da página, como < html>, < head>, < body>, < header>, < nav>, < section>, < article>, < footer>, entre outros.\n",
    "\n",
    "Cada tag tem um propósito específico e é importante escolher a tag correta para cada elemento da sua página para garantir uma estrutura semântica e acessível."
   ]
  },
  {
   "attachments": {},
   "cell_type": "markdown",
   "metadata": {},
   "source": [
    "### 2.4 Criação de uma página HTML simples\n",
    "\n",
    "\n",
    "Para criar uma página HTML simples, você precisa seguir alguns passos básicos:\n",
    "\n",
    "1 - Abra um editor de texto ou uma ferramenta de desenvolvimento web, como o Visual Studio Code, Sublime Text, Notepad++, etc.\n",
    "\n",
    "2 - Digite o código HTML básico:"
   ]
  },
  {
   "cell_type": "code",
   "execution_count": null,
   "metadata": {
    "vscode": {
     "languageId": "html"
    }
   },
   "outputs": [],
   "source": [
    "<!DOCTYPE html>\n",
    "<html>\n",
    "<head>\n",
    "\t<title>Minha Página</title>\n",
    "</head>\n",
    "<body>\n",
    "\t<h1>Bem-vindo à minha página</h1>\n",
    "\t<p>Esta é uma página simples criada com HTML.</p>\n",
    "\t<img src=\"imagem.jpg\" alt=\"Imagem\">\n",
    "</body>\n",
    "</html>\n"
   ]
  },
  {
   "attachments": {},
   "cell_type": "markdown",
   "metadata": {},
   "source": [
    "Vamos analisar esse código:\n",
    "\n",
    "< !DOCTYPE html>: declara que este documento é um documento HTML5;\n",
    "\n",
    "< html>: define o início do documento HTML;\n",
    "\n",
    "< head>: contém informações sobre a página, como o título da página;\n",
    "\n",
    "< title>: define o título da página;\n",
    "\n",
    "< body>: contém todo o conteúdo da página;\n",
    "\n",
    "< h1>: define o título principal da página;\n",
    "\n",
    "< p>: define um parágrafo de texto;\n",
    "\n",
    "< img>: exibe uma imagem, com o atributo src apontando para a localização do arquivo de imagem e o atributo alt fornecendo um texto alternativo para casos em que a imagem não puder ser exibida.\n",
    "\n",
    "3 - Salve o arquivo com a extensão .html (por exemplo, index.html).\n",
    "\n",
    "4 - Abra o arquivo no seu navegador da web para visualizar a página.\n",
    "\n",
    "Pronto! Agora você tem uma página HTML simples com um título, um parágrafo e uma imagem."
   ]
  },
  {
   "attachments": {},
   "cell_type": "markdown",
   "metadata": {},
   "source": [
    "### 2.5 Introdução ao CSS\n",
    "\n",
    "CSS (Cascading Style Sheets) é uma linguagem de estilo usada para definir a aparência e o layout de páginas da web escritas em HTML. Com o CSS, você pode definir o estilo de texto, cores, fundos, bordas, espaçamento e posicionamento de elementos HTML em uma página da web.\n",
    "\n",
    "O CSS é usado para separar a apresentação (ou estilo) de uma página da web do seu conteúdo. Isso significa que você pode ter um arquivo HTML contendo apenas o conteúdo da página e um arquivo CSS separado contendo todas as informações de estilo para essa página. Isso torna mais fácil manter o conteúdo e o estilo separados e permite que você faça alterações em um arquivo sem afetar o outro.\n",
    "\n",
    "O CSS é baseado em um conjunto de regras que definem como os elementos HTML devem ser estilizados. Essas regras consistem em um seletor e um conjunto de declarações. O seletor identifica qual elemento HTML a regra se aplica, enquanto as declarações especificam as propriedades de estilo a serem aplicadas a esse elemento.\n",
    "\n",
    "Por exemplo, a seguinte regra CSS define o estilo de todos os elementos <p> em uma página da web:"
   ]
  },
  {
   "cell_type": "code",
   "execution_count": null,
   "metadata": {
    "vscode": {
     "languageId": "html"
    }
   },
   "outputs": [],
   "source": [
    "<style>\n",
    "    \n",
    "    p {\n",
    "\tcolor: red;\n",
    "\tfont-size: 16px;\n",
    "}\n",
    "\n",
    "</style>"
   ]
  },
  {
   "attachments": {},
   "cell_type": "markdown",
   "metadata": {},
   "source": [
    "Nesse caso, o seletor é p e as declarações são color: red e font-size: 16px. Isso define que todos os elementos < p> na página terão a cor do texto vermelha e o tamanho da fonte de 16 pixels.\n",
    "\n",
    "Com o CSS, você pode criar layouts complexos, tornar uma página da web responsiva e fornecer uma experiência visual agradável e consistente para os visitantes do seu site."
   ]
  },
  {
   "attachments": {},
   "cell_type": "markdown",
   "metadata": {},
   "source": [
    "## 2.6 Sintaxe básica de CSS\n",
    "\n",
    "A sintaxe básica do CSS consiste em um conjunto de regras que especificam como os elementos HTML devem ser estilizados. Cada regra começa com um seletor que identifica qual elemento HTML a regra se aplica, seguido por um conjunto de declarações entre chaves { }. As declarações consistem em uma propriedade de estilo seguida por um valor, separados por dois pontos : e terminados com um ponto e vírgula ;.\n",
    "\n",
    "Aqui está um exemplo simples de sintaxe CSS:   "
   ]
  },
  {
   "cell_type": "code",
   "execution_count": null,
   "metadata": {
    "vscode": {
     "languageId": "html"
    }
   },
   "outputs": [],
   "source": [
    "<style>\n",
    "\n",
    "seletor {\n",
    "  propriedade: valor;\n",
    "  propriedade: valor;\n",
    "}\n",
    "\n",
    "</style>"
   ]
  },
  {
   "attachments": {},
   "cell_type": "markdown",
   "metadata": {},
   "source": [
    "O seletor identifica o(s) elemento(s) HTML que serão estilizados.\n",
    "\n",
    "As propriedades definem os atributos do estilo que será aplicado aos elementos.\n",
    "\n",
    "Os valores são os parâmetros que as propriedades assumirão.\n",
    "\n",
    "Por exemplo, para estilizar todos os elementos < p> com uma cor de texto vermelha e uma fonte serifada, você pode usar o seguinte código CSS:"
   ]
  },
  {
   "cell_type": "code",
   "execution_count": null,
   "metadata": {
    "vscode": {
     "languageId": "html"
    }
   },
   "outputs": [],
   "source": [
    "<style>\n",
    "\n",
    "p {\n",
    "  color: red;\n",
    "  font-family: serif;\n",
    "}\n",
    "\n",
    "\n",
    "</style>"
   ]
  },
  {
   "attachments": {},
   "cell_type": "markdown",
   "metadata": {},
   "source": [
    "Neste caso, p é o seletor que se aplica a todos os elementos <p>. As propriedades são color e font-family, e seus valores são red e serif, respectivamente.\n",
    "\n",
    "O CSS também oferece muitas outras propriedades de estilo, como tamanho de fonte, largura e altura de elementos, margens, preenchimentos, bordas, alinhamento de texto, posicionamento e muito mais. Ao combinar diferentes propriedades e valores, você pode criar uma ampla variedade de estilos e layouts para sua página da web."
   ]
  },
  {
   "attachments": {},
   "cell_type": "markdown",
   "metadata": {},
   "source": [
    " ### 2.7 Propriedades CSS\n",
    "\n",
    " As propriedades CSS controlam a aparência e o layout dos elementos HTML. Existem muitas propriedades CSS disponíveis para modificar vários aspectos de um elemento, desde sua cor e tamanho até sua posição e fluxo na página. Aqui estão algumas das propriedades CSS mais comuns:\n",
    "\n",
    "* color: define a cor do texto;\n",
    "\n",
    "* font-size: define o tamanho da fonte do texto;\n",
    "\n",
    "* font-family: define o tipo de fonte para o texto;\n",
    "\n",
    "* background-color: define a cor do plano de fundo do elemento;\n",
    "\n",
    "* border: define a borda do elemento, incluindo largura, estilo e cor;\n",
    "\n",
    "* margin: define a margem externa do elemento;\n",
    "\n",
    "* padding: define o preenchimento interno do elemento;\n",
    "\n",
    "* width: define a largura do elemento;\n",
    "\n",
    "* height: define a altura do elemento;\n",
    "\n",
    "* text-align: define o alinhamento do texto;\n",
    "\n",
    "* display: define como o elemento é exibido (bloco, em linha, em linha com bloco, flex etc.);\n",
    "\n",
    "* position: define o tipo de posicionamento do elemento (absoluto, relativo, fixo etc.).\n",
    "\n",
    "Essas propriedades são apenas algumas das muitas disponíveis no CSS. Ao combiná-las de maneiras diferentes, você pode criar estilos exclusivos para seus elementos HTML. É importante lembrar que nem todas as propriedades são aplicáveis a todos os elementos, e algumas propriedades podem ter efeitos diferentes dependendo do tipo de elemento que está sendo estilizado. Além disso, algumas propriedades podem ser herdadas por elementos filhos, enquanto outras não. Portanto, é essencial entender as propriedades CSS e como usá-las efetivamente para criar layouts e estilos consistentes em sua página da web.\n",
    "    "
   ]
  },
  {
   "attachments": {},
   "cell_type": "markdown",
   "metadata": {},
   "source": [
    "### 2.8 Estilização da página com CSS\n",
    "\n",
    "Para estilizar uma página HTML com CSS, é necessário primeiro selecionar os elementos que deseja estilizar. Isso é feito usando seletores CSS, que são padrões que correspondem a um ou mais elementos na página. Em seguida, é necessário definir as propriedades CSS desejadas para esses elementos.\n",
    "\n",
    "Por exemplo, para estilizar um parágrafo em uma página HTML, você pode usar o seguinte código CSS:"
   ]
  },
  {
   "cell_type": "code",
   "execution_count": null,
   "metadata": {
    "vscode": {
     "languageId": "html"
    }
   },
   "outputs": [],
   "source": [
    "<style>\n",
    "\n",
    "p {\n",
    "  color: red;\n",
    "  font-size: 18px;\n",
    "}\n",
    "\n",
    "\n",
    "</style>"
   ]
  },
  {
   "attachments": {},
   "cell_type": "markdown",
   "metadata": {},
   "source": [
    "Aqui, o seletor p é usado para selecionar todos os elementos p na página, e as propriedades CSS color e font-size são definidas como red e 18px, respectivamente. Isso fará com que todos os parágrafos na página sejam exibidos com texto vermelho e uma fonte de tamanho 18.\n",
    "\n",
    "Além disso, você pode usar seletores mais específicos para estilizar apenas elementos específicos na página. Por exemplo, para estilizar uma imagem com um ID específico, você pode usar o seletor # seguido pelo ID da imagem:"
   ]
  },
  {
   "cell_type": "code",
   "execution_count": null,
   "metadata": {
    "vscode": {
     "languageId": "html"
    }
   },
   "outputs": [],
   "source": [
    "<style>\n",
    "\n",
    "#minha-imagem {\n",
    "  width: 200px;\n",
    "  height: 200px;\n",
    "}\n",
    "\n",
    "\n",
    "</style>"
   ]
  },
  {
   "attachments": {},
   "cell_type": "markdown",
   "metadata": {},
   "source": [
    "Isso fará com que a imagem com o ID \"minha-imagem\" tenha uma largura e altura de 200 pixels.\n",
    "\n",
    "Existem muitas propriedades CSS diferentes que você pode usar para estilizar elementos em uma página HTML, como mencionado na resposta anterior. Ao combinar seletores e propriedades CSS, você pode criar layouts e estilos únicos para sua página da web."
   ]
  },
  {
   "attachments": {},
   "cell_type": "markdown",
   "metadata": {},
   "source": [
    "## 3 - Semana 2:"
   ]
  },
  {
   "attachments": {},
   "cell_type": "markdown",
   "metadata": {},
   "source": [
    "### 3.1 Uso de listas em \n",
    "\n",
    "As listas em HTML permitem que você organize conteúdo em itens ordenados ou não ordenados. Para criar uma lista não ordenada, você pode usar a tag < ul> e incluir cada item da lista como um elemento < li> dentro dessa tag.\n",
    "\n",
    "Aqui está um exemplo de uma lista não ordenada simples em HTML:\n",
    "    "
   ]
  },
  {
   "cell_type": "code",
   "execution_count": null,
   "metadata": {
    "vscode": {
     "languageId": "html"
    }
   },
   "outputs": [],
   "source": [
    "<ul>\n",
    "    <li>Item 1</li>\n",
    "    <li>Item 2</li>\n",
    "    <li>Item 3</li>\n",
    "  </ul>\n",
    "  "
   ]
  },
  {
   "attachments": {},
   "cell_type": "markdown",
   "metadata": {},
   "source": [
    "Para criar uma lista ordenada, você pode usar a tag < ol> em vez de < ul>. Dentro da tag < ol>, cada item da lista ainda é um elemento < li>, mas o navegador adicionará automaticamente um número ou letra antes de cada item para indicar sua ordem na lista.\n",
    "\n",
    "Aqui está um exemplo de uma lista ordenada simples em HTML:"
   ]
  },
  {
   "cell_type": "code",
   "execution_count": null,
   "metadata": {
    "vscode": {
     "languageId": "html"
    }
   },
   "outputs": [],
   "source": [
    "<ol>\n",
    "    <li>Item 1</li>\n",
    "    <li>Item 2</li>\n",
    "    <li>Item 3</li>\n",
    "  </ol>\n",
    "  "
   ]
  },
  {
   "attachments": {},
   "cell_type": "markdown",
   "metadata": {},
   "source": [
    "Você também pode usar a propriedade CSS list-style para personalizar a aparência da sua lista. Por exemplo, você pode definir a propriedade list-style-type como none para remover os pontos de uma lista não ordenada:"
   ]
  },
  {
   "cell_type": "code",
   "execution_count": null,
   "metadata": {
    "vscode": {
     "languageId": "html"
    }
   },
   "outputs": [],
   "source": [
    "<style>\n",
    "\n",
    "ul {\n",
    "    list-style-type: none;\n",
    "  }\n",
    "  \n",
    "</style>\n",
    "  "
   ]
  },
  {
   "attachments": {},
   "cell_type": "markdown",
   "metadata": {},
   "source": [
    "Existem muitos outros valores que você pode usar para list-style-type, incluindo circle, square, decimal, lower-alpha, upper-roman, entre outros.\n",
    "\n",
    "Com as listas em HTML, você pode organizar seu conteúdo de forma clara e fácil de ler para os usuários."
   ]
  },
  {
   "attachments": {},
   "cell_type": "markdown",
   "metadata": {},
   "source": [
    "### 3.2 Listas não ordenadas e ordenadas\n",
    "\n",
    "As listas não ordenadas e ordenadas são tipos de listas que você pode criar em HTML para organizar itens de conteúdo. Elas possuem algumas diferenças na sintaxe e na aparência, mas ambas são úteis para criar estruturas de conteúdo claras e legíveis.\n",
    "\n",
    "Para criar uma lista não ordenada em HTML, você utiliza a tag < ul>, que indica o início da lista. Cada item da lista é representado pela tag < li>, que deve ser inserida dentro da tag < ul>. Veja o exemplo abaixo:\n",
    "    "
   ]
  },
  {
   "cell_type": "code",
   "execution_count": null,
   "metadata": {
    "vscode": {
     "languageId": "html"
    }
   },
   "outputs": [],
   "source": [
    "<ul>\n",
    "    <li>Item 1</li>\n",
    "    <li>Item 2</li>\n",
    "    <li>Item 3</li>\n",
    "  </ul>\n",
    "  "
   ]
  },
  {
   "attachments": {},
   "cell_type": "markdown",
   "metadata": {},
   "source": [
    "Isso criará uma lista não ordenada com três itens, sem ordem numérica ou alfabética.\n",
    "\n",
    "Para criar uma lista ordenada em HTML, você utiliza a tag < ol>, que indica o início da lista. Cada item da lista é representado pela tag < li>, que deve ser inserida dentro da tag < ol>. Veja o exemplo abaixo:"
   ]
  },
  {
   "cell_type": "code",
   "execution_count": null,
   "metadata": {
    "vscode": {
     "languageId": "html"
    }
   },
   "outputs": [],
   "source": [
    "<ol>\n",
    "    <li>Item 1</li>\n",
    "    <li>Item 2</li>\n",
    "    <li>Item 3</li>\n",
    "  </ol>\n",
    "  "
   ]
  },
  {
   "attachments": {},
   "cell_type": "markdown",
   "metadata": {},
   "source": [
    "Isso criará uma lista ordenada com três itens, numerados de forma automática pelo navegador.\n",
    "\n",
    "Além disso, você pode personalizar a aparência das suas listas utilizando CSS. Por exemplo, você pode modificar o estilo dos marcadores das listas não ordenadas ou o tipo de numeração da lista ordenada. Para isso, utilize a propriedade list-style juntamente com os valores desejados.\n",
    "\n",
    "Em resumo, as listas são uma ferramenta importante para organizar informações em um site, e as listas não ordenadas e ordenadas são dois tipos principais que você pode usar para atender às suas necessidades de apresentação."
   ]
  },
  {
   "attachments": {},
   "cell_type": "markdown",
   "metadata": {},
   "source": [
    "### 3.3 Estilização de listas com CSS\n",
    "\n",
    "A estilização de listas com CSS permite que você personalize a aparência das suas listas para que elas se adequem melhor ao seu design e estilo visual. Você pode aplicar estilos diferentes aos marcadores das listas não ordenadas e ao número ou letra dos itens da lista ordenada.\n",
    "\n",
    "Para estilizar as listas não ordenadas, você pode utilizar a propriedade list-style-type. Essa propriedade permite que você altere o estilo dos marcadores das listas. Alguns valores comuns dessa propriedade são:\n",
    "\n",
    "disc: o marcador é um círculo vazio;\n",
    "circle: o marcador é um círculo preenchido;\n",
    "square: o marcador é um quadrado preenchido.\n",
    "Para estilizar as listas ordenadas, você pode utilizar a propriedade list-style-type com valores diferentes, dependendo do tipo de numeração que você deseja. Alguns valores comuns dessa propriedade são:\n",
    "\n",
    "decimal: numeração decimal (1, 2, 3, etc.);\n",
    "lower-roman: numeração romana minúscula (i, ii, iii, etc.);\n",
    "upper-roman: numeração romana maiúscula (I, II, III, etc.);\n",
    "lower-alpha: numeração alfabética minúscula (a, b, c, etc.);\n",
    "upper-alpha: numeração alfabética maiúscula (A, B, C, etc.).\n",
    "Aqui está um exemplo de como estilizar uma lista não ordenada com círculos preenchidos e uma lista ordenada com numeração romana minúscula:"
   ]
  },
  {
   "cell_type": "code",
   "execution_count": null,
   "metadata": {
    "vscode": {
     "languageId": "html"
    }
   },
   "outputs": [],
   "source": [
    "<style>\n",
    "\n",
    "ul {\n",
    "    list-style-type: circle;\n",
    "  }\n",
    "  \n",
    "  ol {\n",
    "    list-style-type: lower-roman;\n",
    "  }\n",
    "  \n",
    "</style>\n",
    "  "
   ]
  },
  {
   "attachments": {},
   "cell_type": "markdown",
   "metadata": {},
   "source": [
    "Além disso, você também pode usar outras propriedades CSS para estilizar os itens individuais da lista, como padding, margin, font-size e color.\n",
    "\n",
    "Lembre-se de que a estilização das listas deve ser consistente com o restante do seu design para que sejam fáceis de ler e contribuam para a coesão visual do seu site."
   ]
  },
  {
   "attachments": {},
   "cell_type": "markdown",
   "metadata": {},
   "source": [
    "### 3.4 Criação de links em HTML\n",
    "\n",
    "Links em HTML são utilizados para direcionar o usuário para outras páginas, seções ou arquivos dentro do seu site ou para sites externos. Eles podem ser criados utilizando a tag < a>, que significa \"âncora\" em inglês.\n",
    "\n",
    "A tag < a> deve ser utilizada com o atributo href, que indica o endereço para onde o link deve apontar. O valor do atributo href pode ser uma URL completa, um caminho relativo para um arquivo dentro do seu site ou um identificador para uma seção específica da página atual.\n",
    "\n",
    "Aqui está um exemplo de como criar um link para a página inicial do Google:\n",
    "    "
   ]
  },
  {
   "cell_type": "code",
   "execution_count": null,
   "metadata": {
    "vscode": {
     "languageId": "html"
    }
   },
   "outputs": [],
   "source": [
    "<a href=\"https://www.google.com/\">Ir para o Google</a>\n"
   ]
  },
  {
   "attachments": {},
   "cell_type": "markdown",
   "metadata": {},
   "source": [
    "Quando o usuário clicar no link, ele será direcionado para a página inicial do Google.\n",
    "\n",
    "Além disso, você também pode adicionar um atributo target à tag < a> para especificar onde o link deve ser aberto. O valor padrão para o atributo target é _self, que indica que o link deve ser aberto na mesma janela ou aba do navegador. No entanto, você também pode usar os seguintes valores:\n",
    "\n",
    "* _blank: o link deve ser aberto em uma nova janela ou aba do navegador;\n",
    "* _parent: o link deve ser aberto na janela ou aba \"pai\" da janela ou aba atual;\n",
    "* _top: o link deve ser aberto na janela ou aba principal do navegador.\n",
    "\n",
    "Aqui está um exemplo de como criar um link que abre em uma nova aba:"
   ]
  },
  {
   "attachments": {},
   "cell_type": "markdown",
   "metadata": {},
   "source": [
    "Por fim, você também pode estilizar seus links com CSS, aplicando propriedades como color, text-decoration e font-weight para torná-los mais visíveis e atraentes para o usuário."
   ]
  },
  {
   "cell_type": "code",
   "execution_count": null,
   "metadata": {
    "vscode": {
     "languageId": "html"
    }
   },
   "outputs": [],
   "source": [
    "<a href=\"https://www.google.com/\" target=\"_blank\">Ir para o Google</a>\n"
   ]
  },
  {
   "attachments": {},
   "cell_type": "markdown",
   "metadata": {},
   "source": [
    "### 3.5 Estilização de links com CSS\n",
    "\n",
    "A estilização de links com CSS é uma das maneiras mais simples de melhorar a aparência do seu site e tornar seus links mais atraentes para o usuário.\n",
    "\n",
    "Para estilizar links com CSS, você pode utilizar seletores específicos para as tags <a> e atributos de links, como :hover, :visited e :active.\n",
    "\n",
    "Por exemplo, para definir a cor do link padrão, você pode usar a propriedade color e definir uma cor que combine com o tema do seu site:"
   ]
  },
  {
   "cell_type": "code",
   "execution_count": null,
   "metadata": {
    "vscode": {
     "languageId": "html"
    }
   },
   "outputs": [],
   "source": [
    "<style>\n",
    "    \n",
    "    a {\n",
    "  color: #0077cc;\n",
    "}\n",
    "\n",
    "</style>"
   ]
  },
  {
   "attachments": {},
   "cell_type": "markdown",
   "metadata": {},
   "source": [
    "Para alterar a cor do link quando o usuário passa o mouse sobre ele, você pode usar o seletor :hover:"
   ]
  },
  {
   "cell_type": "code",
   "execution_count": null,
   "metadata": {
    "vscode": {
     "languageId": "html"
    }
   },
   "outputs": [],
   "source": [
    "<style>\n",
    "\n",
    "a:hover {\n",
    "  color: #0099ff;\n",
    "}\n",
    "\n",
    "</style>"
   ]
  },
  {
   "attachments": {},
   "cell_type": "markdown",
   "metadata": {},
   "source": [
    "Você também pode estilizar links visitados e ativos com os seletores :visited e :active, respectivamente:"
   ]
  },
  {
   "cell_type": "code",
   "execution_count": null,
   "metadata": {
    "vscode": {
     "languageId": "html"
    }
   },
   "outputs": [],
   "source": [
    "<style>\n",
    "\n",
    "a:visited {\n",
    "  color: #551a8b;\n",
    "}\n",
    "\n",
    "a:active {\n",
    "  color: #ff6600;\n",
    "}\n",
    "\n",
    "</style>"
   ]
  },
  {
   "attachments": {},
   "cell_type": "markdown",
   "metadata": {},
   "source": [
    "Além disso, você pode alterar a aparência dos links removendo a sublinhado padrão usando a propriedade text-decoration:"
   ]
  },
  {
   "cell_type": "code",
   "execution_count": null,
   "metadata": {
    "vscode": {
     "languageId": "html"
    }
   },
   "outputs": [],
   "source": [
    "<style>\n",
    "\n",
    "a {\n",
    "  color: #0077cc;\n",
    "  text-decoration: none;\n",
    "}\n",
    "\n",
    "a:hover {\n",
    "  text-decoration: underline;\n",
    "}\n",
    "\n",
    "</style>"
   ]
  },
  {
   "attachments": {},
   "cell_type": "markdown",
   "metadata": {},
   "source": [
    "Essas são apenas algumas das propriedades CSS que você pode usar para estilizar links em seu site. Combinando essas técnicas com outras propriedades CSS, como fontes, margens e preenchimentos, você pode criar links atraentes e fáceis de usar para seus usuários."
   ]
  },
  {
   "attachments": {},
   "cell_type": "markdown",
   "metadata": {},
   "source": [
    "### 3.6 Box model\n",
    "\n",
    "O Box Model é um conceito fundamental do CSS que descreve como o conteúdo, o preenchimento, a borda e a margem de um elemento HTML são organizados em torno de uma caixa retangular.\n",
    "\n",
    "Cada elemento HTML é considerado uma caixa retangular, composta por quatro áreas principais:\n",
    "\n",
    "* Conteúdo: é a área onde o conteúdo real do elemento é exibido, como texto, imagens ou vídeos.\n",
    "\n",
    "* Preenchimento: é a área entre o conteúdo e a borda, que adiciona espaço extra dentro da caixa.\n",
    "\n",
    "* Bordas: é uma linha que circunda a caixa do elemento, podendo ser personalizada com cores, espessuras e estilos diferentes.\n",
    "\n",
    "* Margem: é a área entre a borda e o próximo elemento adjacente, que adiciona espaço extra fora da caixa.\n",
    "\n",
    "Para ilustrar o Box Model, considere o seguinte código HTML:\n",
    "    "
   ]
  },
  {
   "cell_type": "code",
   "execution_count": null,
   "metadata": {
    "vscode": {
     "languageId": "html"
    }
   },
   "outputs": [],
   "source": [
    "<div>\n",
    "    <p>Este é um exemplo de Box Model</p>\n",
    "  </div>\n",
    "  "
   ]
  },
  {
   "attachments": {},
   "cell_type": "markdown",
   "metadata": {},
   "source": [
    "Para estilizar esse elemento usando o Box Model, você pode usar as propriedades CSS width, height, padding, border e margin.\n",
    "\n",
    "Por exemplo, para definir a largura e a altura do elemento:"
   ]
  },
  {
   "cell_type": "code",
   "execution_count": null,
   "metadata": {
    "vscode": {
     "languageId": "html"
    }
   },
   "outputs": [],
   "source": [
    "<style>\n",
    "\n",
    "div {\n",
    "    width: 400px;\n",
    "    height: 200px;\n",
    "  }\n",
    "  \n",
    "</style>"
   ]
  },
  {
   "attachments": {},
   "cell_type": "markdown",
   "metadata": {},
   "source": [
    "Para adicionar preenchimento ao redor do conteúdo:"
   ]
  },
  {
   "cell_type": "code",
   "execution_count": null,
   "metadata": {
    "vscode": {
     "languageId": "html"
    }
   },
   "outputs": [],
   "source": [
    "<style>\n",
    "\n",
    "div {\n",
    "  padding: 20px;\n",
    "}\n",
    "\n",
    "</style>"
   ]
  },
  {
   "attachments": {},
   "cell_type": "markdown",
   "metadata": {},
   "source": [
    "Para adicionar uma borda:"
   ]
  },
  {
   "cell_type": "code",
   "execution_count": null,
   "metadata": {
    "vscode": {
     "languageId": "html"
    }
   },
   "outputs": [],
   "source": [
    "<style>\n",
    "\n",
    "div {\n",
    "    border: 1px solid black;\n",
    "  }\n",
    "  \n",
    "</style>"
   ]
  },
  {
   "attachments": {},
   "cell_type": "markdown",
   "metadata": {},
   "source": [
    "E finalmente, para adicionar uma margem:"
   ]
  },
  {
   "cell_type": "code",
   "execution_count": null,
   "metadata": {
    "vscode": {
     "languageId": "html"
    }
   },
   "outputs": [],
   "source": [
    "<style>\n",
    "\n",
    "div {\n",
    "  margin: 20px;\n",
    "}\n",
    "\n",
    "</style>"
   ]
  },
  {
   "attachments": {},
   "cell_type": "markdown",
   "metadata": {},
   "source": [
    "Essas propriedades podem ser combinadas e personalizadas para criar layouts complexos e atraentes para o seu site. É importante entender o Box Model ao trabalhar com CSS, pois ele afeta diretamente como os elementos são exibidos e posicionados na página."
   ]
  },
  {
   "attachments": {},
   "cell_type": "markdown",
   "metadata": {},
   "source": [
    "### 3.7 Conceito e aplicação no CSS\n",
    "\n",
    "O Box Model é um conceito muito importante para a aplicação de estilos em elementos HTML com o CSS. Cada elemento HTML é visto pelo CSS como uma caixa retangular, composta por quatro áreas: conteúdo, preenchimento, borda e margem.\n",
    "\n",
    "Para aplicar estilos a cada uma dessas áreas, existem várias propriedades CSS que podem ser usadas. Aqui estão algumas das propriedades mais comuns relacionadas ao Box Model:\n",
    "\n",
    "width e height: definem a largura e a altura do conteúdo da caixa.\n",
    "\n",
    "padding: define a quantidade de espaço entre o conteúdo e a borda da caixa.\n",
    "\n",
    "border: define a borda da caixa, incluindo sua espessura, estilo e cor.\n",
    "\n",
    "margin: define a quantidade de espaço entre a borda da caixa e a próxima caixa adjacente.\n",
    "\n",
    "A aplicação dessas propriedades permite a criação de layouts complexos e sofisticados no CSS, permitindo que os elementos HTML sejam posicionados e estilizados da maneira desejada.\n",
    "\n",
    "Por exemplo, se você quiser adicionar um preenchimento de 20 pixels em torno de um elemento HTML, você pode usar a propriedade padding, como neste exemplo:"
   ]
  },
  {
   "cell_type": "code",
   "execution_count": null,
   "metadata": {
    "vscode": {
     "languageId": "html"
    }
   },
   "outputs": [],
   "source": [
    "<style>\n",
    "\n",
    "div {\n",
    "  padding: 20px;\n",
    "}\n",
    "\n",
    "</style>"
   ]
  },
  {
   "attachments": {},
   "cell_type": "markdown",
   "metadata": {},
   "source": [
    "Para adicionar uma borda ao redor do mesmo elemento, você pode usar a propriedade border, como neste exemplo:"
   ]
  },
  {
   "cell_type": "code",
   "execution_count": null,
   "metadata": {
    "vscode": {
     "languageId": "html"
    }
   },
   "outputs": [],
   "source": [
    "<style>\n",
    "\n",
    "div {\n",
    "  border: 1px solid black;\n",
    "}\n",
    "\n",
    "</style>"
   ]
  },
  {
   "attachments": {},
   "cell_type": "markdown",
   "metadata": {},
   "source": [
    "Para adicionar uma margem entre o elemento e a próxima caixa adjacente, você pode usar a propriedade margin, como neste exemplo:"
   ]
  },
  {
   "cell_type": "code",
   "execution_count": null,
   "metadata": {
    "vscode": {
     "languageId": "html"
    }
   },
   "outputs": [],
   "source": [
    "<style>\n",
    "\n",
    "div {\n",
    "  margin: 20px;\n",
    "}\n",
    "\n",
    "</style>"
   ]
  },
  {
   "attachments": {},
   "cell_type": "markdown",
   "metadata": {},
   "source": [
    "Ao usar o Box Model no CSS, é importante lembrar que a largura e a altura de um elemento HTML são definidas pelo conteúdo e pelo preenchimento, não pela borda ou pela margem. Portanto, ao definir a largura ou a altura de um elemento, é necessário levar em consideração o espaço ocupado pela borda e pela margem."
   ]
  },
  {
   "attachments": {},
   "cell_type": "markdown",
   "metadata": {},
   "source": [
    "## 4 - Semana 3:"
   ]
  },
  {
   "attachments": {},
   "cell_type": "markdown",
   "metadata": {},
   "source": [
    "### 4.1 Introdução ao layout em CSS\n",
    "\n",
    "Introdução ao layout em CSS envolve como organizar e posicionar os elementos de uma página web. O layout é importante para garantir que a página tenha uma aparência agradável e fácil de usar. No CSS, existem várias propriedades que podem ser usadas para controlar o layout de uma página, como o posicionamento, o display e o float. Com essas propriedades, é possível definir a posição, o tamanho e a ordem dos elementos na página. Aprender a usar essas propriedades é fundamental para criar layouts complexos e responsivos.\n",
    "    "
   ]
  },
  {
   "attachments": {},
   "cell_type": "markdown",
   "metadata": {},
   "source": [
    "### 4.2 Posicionamento em CSS\n",
    "\n",
    "O posicionamento em CSS é usado para controlar onde os elementos serão exibidos na página. Existem quatro tipos de posicionamento em CSS: estático, relativo, absoluto e fixo.\n",
    "\n",
    "Posicionamento estático: é o padrão e não é necessário definir nada para que ele funcione. Os elementos são exibidos na ordem em que aparecem no código HTML.\n",
    "\n",
    "Posicionamento relativo: com o posicionamento relativo, você pode mover um elemento de sua posição original, usando as propriedades top, bottom, left e right. A posição original do elemento é mantida no fluxo do documento.\n",
    "\n",
    "Posicionamento absoluto: com o posicionamento absoluto, você pode definir a posição exata de um elemento, usando as propriedades top, bottom, left e right. A posição original do elemento é removida do fluxo do documento, o que significa que os outros elementos da página não são afetados por ela.\n",
    "\n",
    "Posicionamento fixo: com o posicionamento fixo, você pode definir a posição de um elemento em relação à janela do navegador, independentemente de a página ser rolada ou não. É útil para elementos que devem estar sempre visíveis, como menus ou cabeçalhos.\n",
    "\n",
    "Cada tipo de posicionamento tem suas próprias vantagens e desvantagens e é importante escolher o tipo correto para cada situação."
   ]
  },
  {
   "cell_type": "code",
   "execution_count": null,
   "metadata": {
    "vscode": {
     "languageId": "html"
    }
   },
   "outputs": [],
   "source": [
    "<!DOCTYPE html>\n",
    "<html>\n",
    "<head>\n",
    "\t<title>Exemplo de Posicionamento em CSS</title>\n",
    "\t<style>\n",
    "\t\t#estatico {\n",
    "\t\t\tbackground-color: #ffcccc;\n",
    "\t\t\tpadding: 10px;\n",
    "\t\t}\n",
    "\t\t#relativo {\n",
    "\t\t\tposition: relative;\n",
    "\t\t\ttop: 20px;\n",
    "\t\t\tbackground-color: #ccffcc;\n",
    "\t\t\tpadding: 10px;\n",
    "\t\t}\n",
    "\t\t#absoluto {\n",
    "\t\t\tposition: absolute;\n",
    "\t\t\ttop: 50px;\n",
    "\t\t\tleft: 50px;\n",
    "\t\t\tbackground-color: #ccccff;\n",
    "\t\t\tpadding: 10px;\n",
    "\t\t}\n",
    "\t\t#fixo {\n",
    "\t\t\tposition: fixed;\n",
    "\t\t\ttop: 10px;\n",
    "\t\t\tright: 10px;\n",
    "\t\t\tbackground-color: #ffffcc;\n",
    "\t\t\tpadding: 10px;\n",
    "\t\t}\n",
    "\t</style>\n",
    "</head>\n",
    "<body>\n",
    "\n",
    "\t<h1>Exemplo de Posicionamento em CSS</h1>\n",
    "\n",
    "\t<div id=\"estatico\">\n",
    "\t\t<p>Este é um elemento estático.</p>\n",
    "\t</div>\n",
    "\n",
    "\t<div id=\"relativo\">\n",
    "\t\t<p>Este é um elemento relativo.</p>\n",
    "\t</div>\n",
    "\n",
    "\t<div id=\"absoluto\">\n",
    "\t\t<p>Este é um elemento absoluto.</p>\n",
    "\t</div>\n",
    "\n",
    "\t<div id=\"fixo\">\n",
    "\t\t<p>Este é um elemento fixo.</p>\n",
    "\t</div>\n",
    "\n",
    "</body>\n",
    "</html>\n"
   ]
  },
  {
   "attachments": {},
   "cell_type": "markdown",
   "metadata": {},
   "source": [
    "Neste exemplo, temos quatro elementos diferentes, cada um com um tipo de posicionamento diferente.\n",
    "\n",
    "O primeiro elemento, com ID \"estatico\", é um elemento estático. Não há nenhuma propriedade de posicionamento definida para este elemento, então ele é exibido na ordem em que aparece no código HTML.\n",
    "\n",
    "O segundo elemento, com ID \"relativo\", é um elemento relativo. A propriedade \"position\" é definida como \"relative\" e a propriedade \"top\" é definida como \"20px\". Isso significa que o elemento é exibido 20 pixels abaixo de sua posição original.\n",
    "\n",
    "O terceiro elemento, com ID \"absoluto\", é um elemento absoluto. A propriedade \"position\" é definida como \"absolute\" e as propriedades \"top\" e \"left\" são definidas como \"50px\". Isso significa que o elemento é exibido 50 pixels abaixo e 50 pixels à direita de sua posição original. Como o elemento é removido do fluxo do documento, outros elementos da página não são afetados por ele.\n",
    "\n",
    "O quarto elemento, com ID \"fixo\", é um elemento fixo. A propriedade \"position\" é definida como \"fixed\" e as propriedades \"top\" e \"right\" são definidas como \"10px\". Isso significa que o elemento é exibido 10 pixels abaixo e 10 pixels à direita do canto superior direito da janela do navegador. Como o elemento é fixo, ele permanece no mesmo lugar, mesmo se a página for rolada."
   ]
  },
  {
   "attachments": {},
   "cell_type": "markdown",
   "metadata": {},
   "source": [
    "### 4.3 Display em CSS\n",
    "\n",
    "Em CSS, o display é uma propriedade que define como um elemento HTML deve ser exibido na página. Existem vários valores possíveis para essa propriedade, cada um com suas próprias características. Alguns exemplos incluem:\n",
    "\n",
    "block: o elemento é exibido como um bloco, ocupando toda a largura disponível na linha. Elementos exibidos como blocos começam em uma nova linha, e você pode definir propriedades de largura, altura, margem e preenchimento para eles.\n",
    "\n",
    "inline: o elemento é exibido em linha, como uma parte do texto. Elementos em linha não começam em uma nova linha e geralmente não podem ter uma largura ou altura definidas.\n",
    "\n",
    "inline-block: o elemento é exibido em linha, mas ainda pode ter uma largura, altura, margem e preenchimento definidos. Elementos em bloco também podem ser alinhados verticalmente e horizontalmente.\n",
    "\n",
    "flex: o elemento é exibido como um contêiner flexível, que permite que seus elementos filhos sejam facilmente redimensionados e reordenados. O layout flexível é frequentemente usado para criar designs responsivos.\n",
    "\n",
    "grid: o elemento é exibido como um contêiner de grade, permitindo que você organize seus elementos em linhas e colunas. O layout em grade é altamente flexível e pode ser usado para criar designs complexos e responsivos.\n",
    "\n",
    "Esses são apenas alguns exemplos de valores possíveis para a propriedade display. Cada valor tem seu próprio conjunto de características e pode ser usado de diferentes maneiras para criar layouts interessantes e responsivos em CSS."
   ]
  },
  {
   "cell_type": "code",
   "execution_count": null,
   "metadata": {
    "vscode": {
     "languageId": "html"
    }
   },
   "outputs": [],
   "source": [
    "<style>\n",
    "\n",
    "    /* Definindo um estilo para um elemento de classe \"meu-elemento\" */\n",
    "\n",
    ".meu-elemento {\n",
    "  display: flex; /* Define o elemento como um contêiner flexível */\n",
    "  justify-content: center; /* Alinha os elementos filhos ao centro do contêiner */\n",
    "  align-items: center; /* Alinha os elementos filhos verticalmente ao centro do contêiner */\n",
    "  width: 100%; /* Define a largura do elemento como 100% do elemento pai */\n",
    "  height: 300px; /* Define a altura do elemento como 300 pixels */\n",
    "  background-color: #f1f1f1; /* Define a cor de fundo do elemento como cinza claro */\n",
    "}\n",
    "\n",
    "</style>"
   ]
  },
  {
   "attachments": {},
   "cell_type": "markdown",
   "metadata": {},
   "source": [
    "Neste exemplo, a classe .meu-elemento está sendo estilizada com a propriedade display definida como flex, tornando-a um contêiner flexível. As propriedades justify-content e align-items são usadas para alinhar os elementos filhos ao centro do contêiner, tanto horizontal quanto verticalmente. As propriedades width e height definem a largura e a altura do elemento, respectivamente, enquanto a propriedade background-color define a cor de fundo do elemento."
   ]
  },
  {
   "attachments": {},
   "cell_type": "markdown",
   "metadata": {},
   "source": [
    "### 4.4 Float em CSS\n",
    "\n",
    "\n",
    "A propriedade float em CSS é utilizada para definir o posicionamento de um elemento em relação aos elementos vizinhos. Quando um elemento é definido como flutuante, ele é removido do fluxo normal do documento e posicionado ao lado do elemento anterior ou do próximo elemento que não é flutuante.\n",
    "\n",
    "A propriedade float aceita os valores left, right e none. Quando definido como left ou right, o elemento flutua para o lado esquerdo ou direito do seu elemento pai, respectivamente. Quando definido como none, o elemento não é flutuante e fica no fluxo normal do documento.\n",
    "\n",
    "Segue um exemplo de código CSS que utiliza a propriedade float:"
   ]
  },
  {
   "cell_type": "code",
   "execution_count": null,
   "metadata": {
    "vscode": {
     "languageId": "html"
    }
   },
   "outputs": [],
   "source": [
    "<style>\n",
    "\n",
    "    /* Definindo um estilo para um elemento de classe \"meu-elemento\" */\n",
    "\n",
    ".meu-elemento {\n",
    "  float: left; /* Define o elemento como flutuante para a esquerda */\n",
    "  width: 50%; /* Define a largura do elemento como 50% do elemento pai */\n",
    "  padding: 20px; /* Define um espaçamento interno de 20 pixels */\n",
    "  box-sizing: border-box; /* Define o tamanho total do elemento, incluindo as bordas e o preenchimento */\n",
    "  border: 1px solid #ddd; /* Define uma borda de 1 pixel sólida com cor cinza claro */\n",
    "  margin-right: 20px; /* Define uma margem à direita de 20 pixels para separar do próximo elemento */\n",
    "}\n",
    "\n",
    "</style>"
   ]
  },
  {
   "attachments": {},
   "cell_type": "markdown",
   "metadata": {},
   "source": [
    "Neste exemplo, a classe .meu-elemento está sendo estilizada com a propriedade float definida como left, tornando-a flutuante para a esquerda. A propriedade width define a largura do elemento como 50% do elemento pai, enquanto a propriedade padding define um espaçamento interno de 20 pixels. A propriedade box-sizing é utilizada para definir o tamanho total do elemento, incluindo as bordas e o preenchimento. A propriedade border define uma borda de 1 pixel sólida com cor cinza claro, e a propriedade margin-right define uma margem à direita de 20 pixels para separar do próximo elemento."
   ]
  },
  {
   "attachments": {},
   "cell_type": "markdown",
   "metadata": {},
   "source": [
    "### 4.5 Criação de uma página com um cabeçalho, uma barra de navegação, uma seção principal e um rodapé\n",
    "\n",
    "Para criar uma página com um layout básico usando HTML e CSS, é possível seguir os seguintes passos:\n",
    "\n",
    "Crie um arquivo HTML com a estrutura básica:\n",
    "    "
   ]
  },
  {
   "cell_type": "code",
   "execution_count": null,
   "metadata": {
    "vscode": {
     "languageId": "html"
    }
   },
   "outputs": [],
   "source": [
    "<!DOCTYPE html>\n",
    "<html>\n",
    "<head>\n",
    "\t<title>Minha Página</title>\n",
    "\t<link rel=\"stylesheet\" type=\"text/css\" href=\"estilo.css\">\n",
    "</head>\n",
    "<body>\n",
    "\t<header>\n",
    "\t\t<h1>Meu site</h1>\n",
    "\t</header>\n",
    "\t\n",
    "\t<nav>\n",
    "\t\t<ul>\n",
    "\t\t\t<li><a href=\"#\">Home</a></li>\n",
    "\t\t\t<li><a href=\"#\">Sobre</a></li>\n",
    "\t\t\t<li><a href=\"#\">Contato</a></li>\n",
    "\t\t</ul>\n",
    "\t</nav>\n",
    "\t\n",
    "\t<main>\n",
    "\t\t<section>\n",
    "\t\t\t<h2>Minha seção principal</h2>\n",
    "\t\t\t<p>Aqui vai o conteúdo principal da minha página.</p>\n",
    "\t\t</section>\n",
    "\t</main>\n",
    "\t\n",
    "\t<footer>\n",
    "\t\t<p>Copyright © 2023</p>\n",
    "\t</footer>\n",
    "</body>\n",
    "</html>\n"
   ]
  },
  {
   "attachments": {},
   "cell_type": "markdown",
   "metadata": {},
   "source": [
    "Crie um arquivo CSS (no exemplo, o arquivo se chama \"estilo.css\") e defina as propriedades de cada elemento:"
   ]
  },
  {
   "cell_type": "code",
   "execution_count": null,
   "metadata": {
    "vscode": {
     "languageId": "html"
    }
   },
   "outputs": [],
   "source": [
    "<style>\n",
    "\n",
    "body {\n",
    "\tmargin: 0;\n",
    "\tpadding: 0;\n",
    "\tfont-family: Arial, sans-serif;\n",
    "}\n",
    "\n",
    "header {\n",
    "\tbackground-color: #333;\n",
    "\tcolor: #fff;\n",
    "\tpadding: 20px;\n",
    "\ttext-align: center;\n",
    "}\n",
    "\n",
    "nav {\n",
    "\tbackground-color: #666;\n",
    "\tcolor: #fff;\n",
    "\tdisplay: flex;\n",
    "\tjustify-content: center;\n",
    "}\n",
    "\n",
    "nav ul {\n",
    "\tlist-style: none;\n",
    "\tmargin: 0;\n",
    "\tpadding: 0;\n",
    "\tdisplay: flex;\n",
    "}\n",
    "\n",
    "nav li {\n",
    "\tmargin: 0 10px;\n",
    "}\n",
    "\n",
    "nav a {\n",
    "\tcolor: #fff;\n",
    "\ttext-decoration: none;\n",
    "}\n",
    "\n",
    "main {\n",
    "\tpadding: 20px;\n",
    "}\n",
    "\n",
    "section {\n",
    "\tmargin: 20px 0;\n",
    "}\n",
    "\n",
    "footer {\n",
    "\tbackground-color: #333;\n",
    "\tcolor: #fff;\n",
    "\tpadding: 10px;\n",
    "\ttext-align: center;\n",
    "}\n",
    "\n",
    "</style>"
   ]
  },
  {
   "attachments": {},
   "cell_type": "markdown",
   "metadata": {},
   "source": [
    "O código HTML cria uma estrutura básica com um cabeçalho, uma barra de navegação, uma seção principal e um rodapé. O CSS define as propriedades de cada elemento, como cores, fontes, espaçamentos e posicionamento.\n",
    "\n",
    "Com esses passos, é possível criar uma página com um layout básico e entender como os conceitos de HTML e CSS se aplicam na criação de páginas web."
   ]
  },
  {
   "attachments": {},
   "cell_type": "markdown",
   "metadata": {},
   "source": [
    "### 4.6 Estilização do layout com CSS\n",
    "\n",
    "\n",
    "Para estilizar o layout de uma página com CSS, podemos utilizar propriedades como background-color para definir a cor de fundo, width e height para definir as dimensões dos elementos, padding e margin para definir os espaçamentos internos e externos, e muitas outras propriedades.\n",
    "\n",
    "Por exemplo, podemos estilizar um cabeçalho com a seguinte classe:"
   ]
  },
  {
   "cell_type": "code",
   "execution_count": null,
   "metadata": {
    "vscode": {
     "languageId": "html"
    }
   },
   "outputs": [],
   "source": [
    "<style>\n",
    "\n",
    ".header {\n",
    "  background-color: #333;\n",
    "  color: #fff;\n",
    "  height: 80px;\n",
    "  padding: 20px;\n",
    "}\n",
    "\n",
    "</style>"
   ]
  },
  {
   "attachments": {},
   "cell_type": "markdown",
   "metadata": {},
   "source": [
    "Isso definiria um cabeçalho com fundo preto (#333), texto branco (#fff), altura de 80 pixels e um espaçamento interno de 20 pixels em todas as direções.\n",
    "\n",
    "Da mesma forma, podemos estilizar uma barra de navegação com a seguinte classe:"
   ]
  },
  {
   "cell_type": "code",
   "execution_count": null,
   "metadata": {
    "vscode": {
     "languageId": "html"
    }
   },
   "outputs": [],
   "source": [
    "<style>\n",
    "\n",
    ".navbar {\n",
    "  background-color: #f2f2f2;\n",
    "  border-bottom: 1px solid #ccc;\n",
    "  height: 40px;\n",
    "}\n",
    "\n",
    "</style>"
   ]
  },
  {
   "attachments": {},
   "cell_type": "markdown",
   "metadata": {},
   "source": [
    "Isso definiria uma barra de navegação com fundo cinza claro (#f2f2f2), uma borda inferior de 1 pixel sólida cinza (#ccc) e uma altura de 40 pixels.\n",
    "\n",
    "Para a seção principal, podemos definir uma classe que define uma largura máxima e um espaçamento interno:"
   ]
  },
  {
   "cell_type": "code",
   "execution_count": null,
   "metadata": {
    "vscode": {
     "languageId": "html"
    }
   },
   "outputs": [],
   "source": [
    "<style>\n",
    "\n",
    ".main {\n",
    "  max-width: 960px;\n",
    "  margin: 0 auto;\n",
    "  padding: 20px;\n",
    "}\n",
    "\n",
    "</style>"
   ]
  },
  {
   "attachments": {},
   "cell_type": "markdown",
   "metadata": {},
   "source": [
    "Isso definiria uma largura máxima de 960 pixels, um espaçamento interno de 20 pixels em todas as direções e uma margem automática para centralizar a seção na página.\n",
    "\n",
    "Por fim, podemos estilizar o rodapé com a seguinte classe:"
   ]
  },
  {
   "cell_type": "code",
   "execution_count": null,
   "metadata": {
    "vscode": {
     "languageId": "html"
    }
   },
   "outputs": [],
   "source": [
    "<style>\n",
    "\n",
    ".footer {\n",
    "  background-color: #333;\n",
    "  color: #fff;\n",
    "  height: 60px;\n",
    "  padding: 20px;\n",
    "}\n",
    "\n",
    "</style>"
   ]
  },
  {
   "attachments": {},
   "cell_type": "markdown",
   "metadata": {},
   "source": [
    "Isso definiria um rodapé com fundo preto (#333), texto branco (#fff), altura de 60 pixels e um espaçamento interno de 20 pixels em todas as direções.\n",
    "\n",
    "Com essas classes definidas, podemos aplicá-las aos elementos HTML correspondentes para criar nosso layout completo. Por exemplo:"
   ]
  },
  {
   "cell_type": "code",
   "execution_count": null,
   "metadata": {
    "vscode": {
     "languageId": "html"
    }
   },
   "outputs": [],
   "source": [
    "<div class=\"header\">\n",
    "  <h1>Meu site</h1>\n",
    "</div>\n",
    "\n",
    "<div class=\"navbar\">\n",
    "  <ul>\n",
    "    <li><a href=\"#\">Home</a></li>\n",
    "    <li><a href=\"#\">Sobre</a></li>\n",
    "    <li><a href=\"#\">Contato</a></li>\n",
    "  </ul>\n",
    "</div>\n",
    "\n",
    "<div class=\"main\">\n",
    "  <h2>Bem-vindo ao meu site!</h2>\n",
    "  <p>Aqui você encontrará informações sobre mim e meu trabalho.</p>\n",
    "</div>\n",
    "\n",
    "<div class=\"footer\">\n",
    "  <p>&copy; 2023 Meu site. Todos os direitos reservados.</p>\n",
    "</div>"
   ]
  },
  {
   "attachments": {},
   "cell_type": "markdown",
   "metadata": {},
   "source": [
    "## 5 - Semana 4:\n"
   ]
  },
  {
   "attachments": {},
   "cell_type": "markdown",
   "metadata": {},
   "source": [
    "### 5.1 Formulários em HTML\n",
    "\n",
    "Os formulários HTML são elementos que permitem que os usuários insiram informações que podem ser enviadas para um servidor para serem processadas. Eles consistem em vários elementos, incluindo campos de entrada de texto, caixas de seleção, botões de opção e botões de envio.\n",
    "\n",
    "Para criar um formulário em HTML, é necessário utilizar a tag < form> e adicionar elementos de formulário dentro dela. Cada elemento de formulário é representado por uma tag HTML específica, como < input>, < textarea> ou < select>.\n",
    "\n",
    "É possível definir atributos para cada elemento de formulário, como o tipo de campo, o tamanho, o valor padrão e o rótulo. O rótulo é exibido ao lado do campo e ajuda o usuário a entender o tipo de informação que deve ser inserida.\n",
    "\n",
    "Após preencher os campos do formulário, o usuário pode clicar no botão de envio para enviar as informações para o servidor. O servidor pode processar as informações e retornar uma página de confirmação ou redirecionar o usuário para outra página.\n",
    "\n",
    "A estilização dos formulários pode ser feita com CSS, permitindo personalizar o visual dos campos e botões, bem como a disposição dos elementos no formulário.\n",
    "    "
   ]
  },
  {
   "attachments": {},
   "cell_type": "markdown",
   "metadata": {},
   "source": [
    "### 5.2 Criação de formulários para coleta de informações do usuário\n",
    "\n",
    "\n",
    "Formulários são elementos essenciais em muitas páginas da web, permitindo a coleta de informações dos usuários. Eles podem ser utilizados para diversos propósitos, como pesquisas, cadastro de usuários, compra de produtos, entre outros.\n",
    "\n",
    "Para criar um formulário em HTML, é necessário utilizar a tag < form> e incluir os elementos que comporão o formulário dentro dela. Esses elementos podem ser campos de texto, caixas de seleção, botões de rádio, entre outros, e são definidos por meio de tags específicas, como < input>, < select> e < textarea>.\n",
    "\n",
    "A tag < input> é utilizada para criar diversos tipos de campos de entrada de dados, como campos de texto simples, caixas de seleção e botões de rádio. Cada tipo de campo é definido por meio do atributo type. Por exemplo, para criar um campo de texto simples, utiliza-se a tag < input> com o atributo type definido como text. Para criar uma caixa de seleção, utiliza-se a tag < input> com o atributo type definido como checkbox.\n",
    "\n",
    "A tag < select> é utilizada para criar uma lista de opções, onde o usuário pode selecionar uma ou mais opções. Dentro da tag < select>, devem ser incluídas as tags < option>, que representam as opções da lista.\n",
    "\n",
    "A tag < textarea> é utilizada para criar um campo de texto de múltiplas linhas, onde o usuário pode inserir um texto mais extenso.\n",
    "\n",
    "Além disso, é possível utilizar outras tags, como < label> e < fieldset>, para melhorar a organização e a acessibilidade do formulário.\n",
    "\n",
    "Para processar as informações submetidas pelo usuário por meio do formulário, é necessário definir um script de processamento em uma linguagem de programação, como PHP, Python ou JavaScript.\n",
    "\n",
    "Para estilizar os elementos do formulário com CSS, é possível utilizar as mesmas propriedades e valores utilizados para estilizar outros elementos HTML. É importante lembrar que alguns navegadores podem aplicar estilos padrão aos elementos do formulário, que podem ser sobrescritos com CSS.\n",
    "    "
   ]
  },
  {
   "attachments": {},
   "cell_type": "markdown",
   "metadata": {},
   "source": [
    "\n",
    "Segue um exemplo básico de criação de um formulário em HTML:"
   ]
  },
  {
   "cell_type": "code",
   "execution_count": null,
   "metadata": {
    "vscode": {
     "languageId": "html"
    }
   },
   "outputs": [],
   "source": [
    "<form>\n",
    "    <label for=\"nome\">Nome:</label>\n",
    "    <input type=\"text\" id=\"nome\" name=\"nome\"><br>\n",
    "  \n",
    "    <label for=\"email\">Email:</label>\n",
    "    <input type=\"email\" id=\"email\" name=\"email\"><br>\n",
    "  \n",
    "    <label for=\"senha\">Senha:</label>\n",
    "    <input type=\"password\" id=\"senha\" name=\"senha\"><br>\n",
    "  \n",
    "    <label for=\"genero\">Gênero:</label>\n",
    "    <input type=\"radio\" id=\"masculino\" name=\"genero\" value=\"masculino\">\n",
    "    <label for=\"masculino\">Masculino</label>\n",
    "    <input type=\"radio\" id=\"feminino\" name=\"genero\" value=\"feminino\">\n",
    "    <label for=\"feminino\">Feminino</label><br>\n",
    "  \n",
    "    <label for=\"interesses\">Interesses:</label>\n",
    "    <select id=\"interesses\" name=\"interesses\" multiple>\n",
    "      <option value=\"esporte\">Esporte</option>\n",
    "      <option value=\"cinema\">Cinema</option>\n",
    "      <option value=\"musica\">Música</option>\n",
    "    </select><br>\n",
    "  \n",
    "    <input type=\"submit\" value=\"Enviar\">\n",
    "  </form>\n",
    "  "
   ]
  },
  {
   "attachments": {},
   "cell_type": "markdown",
   "metadata": {},
   "source": [
    "Neste exemplo, estamos criando um formulário com campos para o usuário inserir seu nome, email, senha, selecionar seu gênero e escolher seus interesses a partir de uma lista suspensa com opções múltiplas. O botão \"Enviar\" é utilizado para submeter o formulário. Cada campo é identificado por um id e um name, que são utilizados para acessar o valor inserido pelo usuário quando o formulário é submetido."
   ]
  },
  {
   "attachments": {},
   "cell_type": "markdown",
   "metadata": {},
   "source": [
    "### 5.3 Estilização de formulários com CSS\n",
    "\n",
    "\n",
    "\n",
    "Para estilizar formulários com CSS, podemos utilizar diversas propriedades para modificar a aparência dos elementos do formulário, tais como:\n",
    "\n",
    "* background-color: define a cor de fundo do elemento;\n",
    "* color: define a cor do texto do elemento;\n",
    "* border: define a borda do elemento;\n",
    "* padding: define o preenchimento interno do elemento;\n",
    "* margin: define o espaçamento externo do elemento;\n",
    "* font-family: define a família da fonte do texto do elemento;\n",
    "* font-size: define o tamanho da fonte do texto do elemento.\n",
    "\n",
    "Além dessas propriedades, é possível utilizar outras específicas para estilizar elementos de formulários, como por exemplo:\n",
    "\n",
    "* border-radius: define o raio dos cantos das bordas;\n",
    "* box-shadow: define uma sombra ao redor do elemento;\n",
    "* text-align: alinha o texto dentro do elemento.\n",
    "\n",
    "Para estilizar um formulário em CSS, basta selecionar o elemento que se deseja modificar e aplicar as propriedades desejadas. Por exemplo, para modificar o estilo de um campo de texto, pode-se utilizar o seletor input[type=\"text\"] e aplicar as propriedades desejadas. Veja um exemplo:\n",
    "    "
   ]
  },
  {
   "cell_type": "code",
   "execution_count": null,
   "metadata": {
    "vscode": {
     "languageId": "html"
    }
   },
   "outputs": [],
   "source": [
    "<style>\n",
    "\n",
    "input[type=\"text\"] {\n",
    "  background-color: #f2f2f2;\n",
    "  border: none;\n",
    "  padding: 10px;\n",
    "  margin: 5px;\n",
    "  border-radius: 5px;\n",
    "  box-shadow: 2px 2px 5px rgba(0, 0, 0, 0.3);\n",
    "  font-family: Arial, sans-serif;\n",
    "  font-size: 16px;\n",
    "}\n",
    "\n",
    "</style>"
   ]
  },
  {
   "attachments": {},
   "cell_type": "markdown",
   "metadata": {},
   "source": [
    "Esse código aplica um estilo a todos os campos de texto (input[type=\"text\"]) do formulário. O estilo inclui uma cor de fundo cinza claro (background-color: #f2f2f2), borda sem cor (border: none), preenchimento interno de 10 pixels (padding: 10px), espaçamento externo de 5 pixels (margin: 5px), cantos arredondados (border-radius: 5px), uma sombra ao redor do elemento (box-shadow: 2px 2px 5px rgba(0, 0, 0, 0.3)), a fonte Arial ou uma fonte sans-serif (font-family: Arial, sans-serif) e tamanho de fonte 16 pixels (font-size: 16px).\n",
    "\n",
    "Com essas propriedades, é possível criar diversos estilos para os elementos de um formulário, deixando-o com um visual mais atraente e adequado às necessidades do projeto."
   ]
  },
  {
   "attachments": {},
   "cell_type": "markdown",
   "metadata": {},
   "source": [
    "### 5.4 Revisão dos conceitos aprendidos durante o curso\n",
    "\n",
    "Durante o curso, foram abordados os seguintes conceitos:\n",
    "\n",
    "* Introdução ao HTML: o que é, sua estrutura básica e a função das tags;\n",
    "* Criação de uma página HTML simples com um cabeçalho, um parágrafo e uma imagem;\n",
    "* Introdução ao CSS: o que é, sua sintaxe básica e a função das propriedades;\n",
    "* Estilização da página criada anteriormente com CSS básico, utilizando cores, fontes e estilos para a imagem;\n",
    "* Uso de listas em HTML: listas não ordenadas e ordenadas;\n",
    "* Estilização de listas com CSS;\n",
    "* Criação de links em HTML e estilização com CSS;\n",
    "* Box model: conceito e aplicação no CSS;\n",
    "* Introdução ao layout em CSS: posicionamento, display e float;\n",
    "* Criação de uma página com um cabeçalho, uma barra de navegação, uma seção principal e um rodapé;\n",
    "* Estilização do layout com CSS;\n",
    "* Formulários em HTML: criação de formulários para coleta de informações do usuário;\n",
    "* Estilização de formulários com CSS.\n",
    "\n",
    "Para consolidar esses conceitos, é importante revisar o código desenvolvido durante o curso e praticar a criação de novas páginas web utilizando HTML e CSS.\n",
    "    "
   ]
  },
  {
   "attachments": {},
   "cell_type": "markdown",
   "metadata": {},
   "source": [
    "### 5.5 Projeto final: criação de uma página web utilizando os conhecimentos adquiridos durante o curso\n",
    "\n",
    "Para o projeto final, os alunos deverão criar uma página web responsiva que contenha as seguintes seções:\n",
    "\n",
    "* Cabeçalho: incluindo o título da página e um menu de navegação;\n",
    "* Seção de introdução: uma breve apresentação do tema da página;\n",
    "* Seção principal: contendo o conteúdo principal da página, com imagens, textos e elementos adicionais de sua escolha;\n",
    "* Barra lateral: uma seção opcional que pode conter informações adicionais, links ou outros elementos;\n",
    "* Rodapé: incluindo informações de contato, direitos autorais e outros elementos que o aluno considerar relevantes.\n",
    "\n",
    "Além disso, os alunos deverão aplicar as técnicas aprendidas durante o curso para garantir que a página web seja estilizada de forma apropriada, incluindo:\n",
    "\n",
    "* Uso de HTML semântico;\n",
    "* Estilização da página com CSS, incluindo seletores, propriedades e valores;\n",
    "* Uso de imagens e outros elementos visuais para melhorar a apresentação da página;\n",
    "* Uso de técnicas de layout responsivo para garantir que a página seja exibida de forma adequada em diferentes dispositivos e tamanhos de tela.\n",
    "\n",
    "O projeto final será avaliado com base na qualidade do código HTML e CSS, bem como na criatividade e efetividade do design da página."
   ]
  },
  {
   "attachments": {},
   "cell_type": "markdown",
   "metadata": {},
   "source": [
    "## 6 - Conclusão\n",
    "    "
   ]
  },
  {
   "attachments": {},
   "cell_type": "markdown",
   "metadata": {},
   "source": [
    "### Revisão do conteúdo aprendido\n",
    "\n",
    "Durante o curso, aprendemos sobre o HTML e o CSS. O HTML é uma linguagem de marcação usada para estruturar o conteúdo de uma página web, enquanto o CSS é usado para estilizar e modificar a aparência do conteúdo.\n",
    "\n",
    "Na primeira semana, aprendemos sobre a estrutura básica do HTML e a função das tags, bem como a sintaxe básica do CSS e a função das propriedades. Criamos uma página HTML simples com um cabeçalho, um parágrafo e uma imagem, e estilizamos essa página com CSS básico.\n",
    "\n",
    "Na segunda semana, aprendemos sobre listas em HTML e como estilizá-las com CSS, além de como criar links em HTML e estilizá-los com CSS. Também aprendemos sobre o conceito de box model no CSS.\n",
    "\n",
    "Na terceira semana, aprendemos sobre o layout em CSS e os conceitos de posicionamento, display e float. Criamos uma página com um cabeçalho, uma barra de navegação, uma seção principal e um rodapé e estilizamos o layout usando CSS.\n",
    "\n",
    "Na quarta e última semana, aprendemos sobre formulários em HTML e como estilizá-los com CSS. Também fizemos uma revisão geral dos conceitos aprendidos durante o curso.\n",
    "\n",
    "Por fim, aplicamos todos os conhecimentos adquiridos durante o curso para criar um projeto final: uma página web completa."
   ]
  },
  {
   "attachments": {},
   "cell_type": "markdown",
   "metadata": {},
   "source": [
    "### Próximos passos após o curso\n",
    "\n",
    "Depois de completar o curso básico de HTML e CSS, existem algumas opções de caminhos a seguir:\n",
    "\n",
    "* Aprofundar os conhecimentos em HTML e CSS: você pode se dedicar a aprender mais sobre as diversas tags, propriedades e técnicas de layout disponíveis para criar páginas ainda mais elaboradas e estilizadas.\n",
    "\n",
    "* Aprender outras linguagens de programação: conhecer outras linguagens de programação, como JavaScript e PHP, pode ajudar a criar sites e aplicações web ainda mais dinâmicas e interativas.\n",
    "\n",
    "* Aprender frameworks e bibliotecas: existem diversos frameworks e bibliotecas disponíveis que podem facilitar o desenvolvimento de páginas web, como Bootstrap, Foundation e jQuery. Aprender a utilizá-las pode tornar o processo de desenvolvimento mais rápido e eficiente.\n",
    "\n",
    "* Desenvolver projetos pessoais: uma das melhores formas de consolidar o aprendizado é colocá-lo em prática. Desenvolver projetos pessoais, como um site ou uma aplicação web, pode ser uma ótima maneira de aplicar os conhecimentos adquiridos durante o curso.\n",
    "\n",
    "* Buscar oportunidades profissionais: se você tem interesse em seguir uma carreira na área de desenvolvimento web, pode começar a buscar oportunidades de trabalho como estagiário ou aprendiz em empresas de tecnologia ou agências digitais. É importante ter em mente que o aprendizado é constante e que sempre haverá novas técnicas e tecnologias para aprender."
   ]
  }
 ],
 "metadata": {
  "kernelspec": {
   "display_name": "Python 3",
   "language": "python",
   "name": "python3"
  },
  "language_info": {
   "codemirror_mode": {
    "name": "ipython",
    "version": 3
   },
   "file_extension": ".py",
   "mimetype": "text/x-python",
   "name": "python",
   "nbconvert_exporter": "python",
   "pygments_lexer": "ipython3",
   "version": "3.10.6"
  },
  "orig_nbformat": 4
 },
 "nbformat": 4,
 "nbformat_minor": 2
}
