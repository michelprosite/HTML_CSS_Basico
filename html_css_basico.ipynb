{
 "cells": [
  {
   "attachments": {},
   "cell_type": "markdown",
   "metadata": {},
   "source": [
    "# Introdução ao Web Scraping com Python\n",
    "\n",
    "## Michel Souza Santana\n",
    "\n",
    "* Data de início: 09 de maio de 2023\n",
    "\n",
    "* Duração: 60 horas\n",
    "\n",
    "> Descrição: \n",
    "\n",
    "Bem-vindo ao curso básico de HTML e CSS! Este curso tem como objetivo apresentar aos participantes os conceitos fundamentais dessas duas linguagens utilizadas para a criação de páginas web. Durante as próximas semanas, você aprenderá como criar uma página web simples, aplicar estilos a elementos e criar layouts usando CSS. Além disso, você também aprenderá a criar formulários para coletar informações do usuário. Com as habilidades adquiridas neste curso, você estará preparado para criar suas próprias páginas web básicas e estilizá-las com CSS. Não é necessário nenhum conhecimento prévio em programação para participar deste curso. Vamos começar!"
   ]
  },
  {
   "attachments": {},
   "cell_type": "markdown",
   "metadata": {},
   "source": [
    "## Índice\n",
    "\n",
    "* 1 - Introdução\n",
    "    * 1.1 Apresentação do curso\n",
    "    * 1.2 O que é HTML e CSS?\n",
    "    * 1.3 Como funcionam HTML e CSS juntos?\n",
    "> ...\n",
    "\n",
    "* 2 - Semana 1\n",
    "    * 2.1 Introdução ao HTML\n",
    "    * 2.2 Estrutura básica de uma página HTML\n",
    "    * 2.3 Tags HTML\n",
    "    * 2.4 Criação de uma página HTML simples\n",
    "    * 2.5 Introdução ao CSS\n",
    "    * 2.6 Sintaxe básica de CSS\n",
    "    * 2.7 Propriedades CSS\n",
    "    * 2.8 Estilização da página com CSS\n",
    "> ...\n",
    "\n",
    "* 3 - Semana 2\n",
    "    * 3.1 Uso de listas em HTML\n",
    "    * 3.2 Listas não ordenadas e ordenadas\n",
    "    * 3.3 Estilização de listas com CSS\n",
    "    * 3.4 Criação de links em HTML\n",
    "    * 3.5 Estilização de links com CSS\n",
    "    * 3.6 Box model\n",
    "    * 3.7 Conceito e aplicação no CSS\n",
    "> ...\n",
    "\n",
    "* 4 - Semana 3\n",
    "    * 4.1 Introdução ao layout em CSS\n",
    "    * 4.2 Posicionamento em CSS\n",
    "    * 4.3 Display em CSS\n",
    "    * 4.4 Float em CSS\n",
    "    * 4.5 Criação de uma página com um cabeçalho, uma barra de navegação, uma seção principal e um rodapé\n",
    "    * 4.6 Estilização do layout com CSS\n",
    "> ...\n",
    "\n",
    "* 5 - Semana 4\n",
    "    * 5.1 Formulários em HTML\n",
    "    * 5.2 Criação de formulários para coleta de informações do usuário\n",
    "    * 5.3 Estilização de formulários com CSS\n",
    "    * 5.4 Revisão dos conceitos aprendidos durante o curso\n",
    "    * 5.5 Projeto final: criação de uma página web utilizando os conhecimentos adquiridos durante o curso\n",
    "> ...\n",
    "\n",
    "* 6 - Conclusão\n",
    "    * Revisão do conteúdo aprendido\n",
    "    * Próximos passos após o curso"
   ]
  },
  {
   "attachments": {},
   "cell_type": "markdown",
   "metadata": {},
   "source": [
    "*****"
   ]
  },
  {
   "attachments": {},
   "cell_type": "markdown",
   "metadata": {},
   "source": [
    "## 1 - Introdução"
   ]
  },
  {
   "attachments": {},
   "cell_type": "markdown",
   "metadata": {},
   "source": [
    "### 1.1 Apresentação do curso\n",
    "    \n",
    "Bem-vindo ao curso básico de HTML e CSS! Neste curso, você aprenderá os conceitos fundamentais dessas duas linguagens usadas para criar páginas web. HTML é a linguagem usada para estruturar o conteúdo de uma página web, enquanto CSS é usada para estilizar a página e torná-la visualmente atraente. Durante este curso, você aprenderá como criar uma página web simples, aplicar estilos a elementos e criar layouts usando CSS. Além disso, você também aprenderá a criar formulários para coletar informações do usuário.\n",
    "\n",
    "Não é necessário nenhum conhecimento prévio em programação para participar deste curso. Ao final do curso, você estará preparado para criar suas próprias páginas web básicas e estilizá-las com CSS.\n",
    "\n",
    "O curso é dividido em quatro semanas, com cada semana abordando um conjunto específico de tópicos. Cada tópico incluirá exercícios práticos para ajudá-lo a consolidar o que foi aprendido. Haverá também um projeto final que consolidará tudo o que você aprendeu, permitindo que você crie sua própria página web usando HTML e CSS.\n",
    "\n",
    "Estamos animados para ajudá-lo a aprender HTML e CSS e esperamos que você tenha uma experiência de aprendizado enriquecedora!"
   ]
  },
  {
   "attachments": {},
   "cell_type": "markdown",
   "metadata": {},
   "source": [
    "### 1.2 O que é HTML e CSS?\n",
    "\n",
    "HTML e CSS são duas linguagens de marcação usadas para criar páginas web.\n",
    "\n",
    "HTML (HyperText Markup Language) é a linguagem usada para estruturar o conteúdo de uma página web, definindo elementos como cabeçalhos, parágrafos, imagens, links e outras formas de mídia. O HTML é interpretado pelo navegador da web para exibir o conteúdo de uma página web.\n",
    "\n",
    "CSS (Cascading Style Sheets) é a linguagem usada para estilizar uma página web e torná-la visualmente atraente. O CSS permite controlar a aparência de elementos HTML, como cores, fontes, tamanhos e layout. Usando CSS, é possível criar layouts complexos, efeitos visuais e animações.\n",
    "\n",
    "HTML e CSS são frequentemente usados juntos para criar páginas web interativas e dinâmicas. O HTML fornece a estrutura e o conteúdo de uma página web, enquanto o CSS é usado para estilizá-la e torná-la mais atraente visualmente. Combinados, HTML e CSS permitem criar páginas web atraentes e interativas para uma ampla variedade de finalidades.\n",
    "    "
   ]
  },
  {
   "attachments": {},
   "cell_type": "markdown",
   "metadata": {},
   "source": [
    "### 1.3 Como funcionam HTML e CSS juntos?\n",
    "\n",
    "HTML e CSS trabalham juntos para criar páginas web visualmente atraentes e interativas.\n",
    "\n",
    "O HTML é usado para definir a estrutura de uma página web e o conteúdo que será exibido. Isso inclui a definição de cabeçalhos, parágrafos, imagens, links e outras formas de mídia. Cada elemento HTML tem um nome e um conjunto de propriedades que podem ser usadas para controlar como ele é exibido.\n",
    "\n",
    "O CSS, por sua vez, é usado para estilizar os elementos HTML definidos na página. As regras CSS podem ser aplicadas a elementos individuais ou a grupos de elementos. Por exemplo, é possível usar CSS para definir a cor, a fonte e o tamanho de um cabeçalho em particular, ou para estilizar uma lista de itens.\n",
    "\n",
    "Ao trabalharem juntos, HTML e CSS permitem criar páginas web visualmente atraentes e interativas. O HTML fornece a estrutura da página, enquanto o CSS é usado para estilizá-la e controlar sua aparência. Combinados, esses dois idiomas permitem criar páginas web que podem ser facilmente visualizadas em uma ampla variedade de dispositivos, incluindo computadores, tablets e smartphones."
   ]
  },
  {
   "attachments": {},
   "cell_type": "markdown",
   "metadata": {},
   "source": [
    "## 2 - Semana 1:"
   ]
  },
  {
   "attachments": {},
   "cell_type": "markdown",
   "metadata": {},
   "source": [
    "### 2.1 Introdução ao HTML\n",
    "\n",
    "HTML (Hypertext Markup Language) é a linguagem de marcação padrão usada para criar páginas web. É usada para estruturar o conteúdo da página e definir como ele deve ser exibido pelo navegador.\n",
    "\n",
    "O HTML é composto de uma série de elementos que fornecem informações sobre o conteúdo da página. Cada elemento é identificado por uma tag (etiqueta) que é usada para envolver o conteúdo. As tags são escritas entre colchetes angulares \"<>\" e geralmente vêm em pares, com uma tag de abertura e uma tag de fechamento.\n",
    "\n",
    "Aqui está um exemplo simples de como uma página HTML pode ser estruturada usando tags:"
   ]
  },
  {
   "cell_type": "code",
   "execution_count": null,
   "metadata": {
    "vscode": {
     "languageId": "html"
    }
   },
   "outputs": [],
   "source": [
    "<!DOCTYPE html>\n",
    "<html>\n",
    "  <head>\n",
    "    <title>Minha Página</title>\n",
    "  </head>\n",
    "  <body>\n",
    "    <h1>Título da Página</h1>\n",
    "    <p>Este é um parágrafo de texto.</p>\n",
    "    <ul>\n",
    "      <li>Item de lista 1</li>\n",
    "      <li>Item de lista 2</li>\n",
    "      <li>Item de lista 3</li>\n",
    "    </ul>\n",
    "  </body>\n",
    "</html>\n"
   ]
  },
  {
   "attachments": {},
   "cell_type": "markdown",
   "metadata": {},
   "source": [
    "Neste exemplo, o elemento raiz é a tag < html>. Dentro dele, há duas seções principais: < head> e < body>. A seção < head> contém informações sobre a página, como o título da página. A seção < body> contém todo o conteúdo da página que é exibido diretamente no navegador.\n",
    "\n",
    "Dentro do elemento < body>, há três elementos diferentes: < h1> para o cabeçalho principal, < p> para um parágrafo de texto e < ul> para uma lista não ordenada. Cada item da lista é representado por uma tag < li>.\n",
    "\n",
    "Esta é apenas uma introdução básica ao HTML. Existem muitos outros elementos disponíveis que podem ser usados para criar páginas web mais complexas e interativas."
   ]
  },
  {
   "attachments": {},
   "cell_type": "markdown",
   "metadata": {},
   "source": [
    "### 2.2 Estrutura básica de uma página HTML\n",
    "\n",
    "A estrutura básica de uma página HTML consiste em uma série de elementos que fornecem informações sobre o conteúdo da página e como ela deve ser exibida. Aqui está um exemplo de estrutura básica de uma página HTML:"
   ]
  },
  {
   "cell_type": "code",
   "execution_count": null,
   "metadata": {
    "vscode": {
     "languageId": "html"
    }
   },
   "outputs": [],
   "source": [
    "<!DOCTYPE html>\n",
    "<html>\n",
    "  <head>\n",
    "    <title>Título da página</title>\n",
    "  </head>\n",
    "  <body>\n",
    "    <h1>Minha primeira página</h1>\n",
    "    <p>Bem-vindo ao meu site!</p>\n",
    "  </body>\n",
    "</html>\n"
   ]
  },
  {
   "attachments": {},
   "cell_type": "markdown",
   "metadata": {},
   "source": [
    "Vamos examinar cada elemento individualmente:\n",
    "\n",
    "< !DOCTYPE html>: Define a versão do HTML sendo usada. Neste caso, estamos usando a versão mais recente, HTML5.\n",
    "\n",
    "< html>: Define o elemento raiz do documento HTML. Todos os outros elementos da página estão contidos dentro deste elemento.\n",
    "\n",
    "< head>: Contém informações sobre a página que não são exibidas diretamente no navegador, como o título da página, meta-informações e links para arquivos CSS e JavaScript.\n",
    "\n",
    "< title>: Define o título da página, que é exibido na aba do navegador e nos resultados de pesquisa.\n",
    "\n",
    "< body>: Contém todo o conteúdo da página que é exibido diretamente no navegador.\n",
    "\n",
    "< h1>: Define um cabeçalho principal na página. O número indica a hierarquia do cabeçalho, com <h1> sendo o mais importante.\n",
    "\n",
    "< p>: Define um parágrafo de texto.\n",
    "\n",
    "Essa é apenas uma estrutura básica para uma página HTML. É possível adicionar muitos outros elementos para criar páginas mais complexas e interativas, incluindo imagens, links, formulários e muito mais."
   ]
  },
  {
   "attachments": {},
   "cell_type": "markdown",
   "metadata": {},
   "source": [
    "### 2.3 Tags HTML\n",
    "\n",
    "As tags HTML são elementos utilizados para definir a estrutura e o conteúdo de uma página web. Elas são escritas entre colchetes angulares < > e geralmente vêm em pares, com uma tag de abertura e uma tag de fechamento. A tag de fechamento é identificada pelo símbolo / após o sinal de menor <.\n",
    "\n",
    "Por exemplo, a tag <p> é usada para definir um parágrafo de texto. A tag de abertura <p> indica onde começa o parágrafo, enquanto a tag de fechamento </p> indica onde ele termina:    "
   ]
  },
  {
   "cell_type": "code",
   "execution_count": null,
   "metadata": {
    "vscode": {
     "languageId": "html"
    }
   },
   "outputs": [],
   "source": [
    "<p>Este é um parágrafo de texto.</p>\n"
   ]
  },
  {
   "attachments": {},
   "cell_type": "markdown",
   "metadata": {},
   "source": [
    "Existem muitas outras tags HTML disponíveis que podem ser usadas para definir diferentes tipos de conteúdo. Aqui estão alguns exemplos comuns:\n",
    "\n",
    "< h1> - < h6>: usado para definir títulos e subtítulos;\n",
    "< a>: usado para criar links para outras páginas ou recursos na web;\n",
    "< img>: usado para exibir imagens;\n",
    "< ul> e < ol>: usados para criar listas não ordenadas e ordenadas, respectivamente;\n",
    "< table>: usado para criar tabelas;\n",
    "< form>: usado para criar formulários para coletar informações do usuário.\n",
    "Além disso, existem várias tags que são usadas para criar elementos estruturais da página, como < html>, < head>, < body>, < header>, < nav>, < section>, < article>, < footer>, entre outros.\n",
    "\n",
    "Cada tag tem um propósito específico e é importante escolher a tag correta para cada elemento da sua página para garantir uma estrutura semântica e acessível."
   ]
  },
  {
   "attachments": {},
   "cell_type": "markdown",
   "metadata": {},
   "source": [
    "### 2.4 Criação de uma página HTML simples\n",
    "\n",
    "\n",
    "Para criar uma página HTML simples, você precisa seguir alguns passos básicos:\n",
    "\n",
    "1 - Abra um editor de texto ou uma ferramenta de desenvolvimento web, como o Visual Studio Code, Sublime Text, Notepad++, etc.\n",
    "\n",
    "2 - Digite o código HTML básico:"
   ]
  },
  {
   "cell_type": "code",
   "execution_count": null,
   "metadata": {
    "vscode": {
     "languageId": "html"
    }
   },
   "outputs": [],
   "source": [
    "<!DOCTYPE html>\n",
    "<html>\n",
    "<head>\n",
    "\t<title>Minha Página</title>\n",
    "</head>\n",
    "<body>\n",
    "\t<h1>Bem-vindo à minha página</h1>\n",
    "\t<p>Esta é uma página simples criada com HTML.</p>\n",
    "\t<img src=\"imagem.jpg\" alt=\"Imagem\">\n",
    "</body>\n",
    "</html>\n"
   ]
  },
  {
   "attachments": {},
   "cell_type": "markdown",
   "metadata": {},
   "source": [
    "Vamos analisar esse código:\n",
    "\n",
    "< !DOCTYPE html>: declara que este documento é um documento HTML5;\n",
    "\n",
    "< html>: define o início do documento HTML;\n",
    "\n",
    "< head>: contém informações sobre a página, como o título da página;\n",
    "\n",
    "< title>: define o título da página;\n",
    "\n",
    "< body>: contém todo o conteúdo da página;\n",
    "\n",
    "< h1>: define o título principal da página;\n",
    "\n",
    "< p>: define um parágrafo de texto;\n",
    "\n",
    "< img>: exibe uma imagem, com o atributo src apontando para a localização do arquivo de imagem e o atributo alt fornecendo um texto alternativo para casos em que a imagem não puder ser exibida.\n",
    "\n",
    "3 - Salve o arquivo com a extensão .html (por exemplo, index.html).\n",
    "\n",
    "4 - Abra o arquivo no seu navegador da web para visualizar a página.\n",
    "\n",
    "Pronto! Agora você tem uma página HTML simples com um título, um parágrafo e uma imagem."
   ]
  },
  {
   "attachments": {},
   "cell_type": "markdown",
   "metadata": {},
   "source": [
    "### 2.5 Introdução ao CSS\n",
    "\n",
    "CSS (Cascading Style Sheets) é uma linguagem de estilo usada para definir a aparência e o layout de páginas da web escritas em HTML. Com o CSS, você pode definir o estilo de texto, cores, fundos, bordas, espaçamento e posicionamento de elementos HTML em uma página da web.\n",
    "\n",
    "O CSS é usado para separar a apresentação (ou estilo) de uma página da web do seu conteúdo. Isso significa que você pode ter um arquivo HTML contendo apenas o conteúdo da página e um arquivo CSS separado contendo todas as informações de estilo para essa página. Isso torna mais fácil manter o conteúdo e o estilo separados e permite que você faça alterações em um arquivo sem afetar o outro.\n",
    "\n",
    "O CSS é baseado em um conjunto de regras que definem como os elementos HTML devem ser estilizados. Essas regras consistem em um seletor e um conjunto de declarações. O seletor identifica qual elemento HTML a regra se aplica, enquanto as declarações especificam as propriedades de estilo a serem aplicadas a esse elemento.\n",
    "\n",
    "Por exemplo, a seguinte regra CSS define o estilo de todos os elementos <p> em uma página da web:"
   ]
  },
  {
   "cell_type": "code",
   "execution_count": null,
   "metadata": {
    "vscode": {
     "languageId": "html"
    }
   },
   "outputs": [],
   "source": [
    "<style>\n",
    "    \n",
    "    p {\n",
    "\tcolor: red;\n",
    "\tfont-size: 16px;\n",
    "}\n",
    "\n",
    "</style>"
   ]
  },
  {
   "attachments": {},
   "cell_type": "markdown",
   "metadata": {},
   "source": [
    "Nesse caso, o seletor é p e as declarações são color: red e font-size: 16px. Isso define que todos os elementos < p> na página terão a cor do texto vermelha e o tamanho da fonte de 16 pixels.\n",
    "\n",
    "Com o CSS, você pode criar layouts complexos, tornar uma página da web responsiva e fornecer uma experiência visual agradável e consistente para os visitantes do seu site."
   ]
  },
  {
   "attachments": {},
   "cell_type": "markdown",
   "metadata": {},
   "source": [
    "## 2.6 Sintaxe básica de CSS\n",
    "\n",
    "A sintaxe básica do CSS consiste em um conjunto de regras que especificam como os elementos HTML devem ser estilizados. Cada regra começa com um seletor que identifica qual elemento HTML a regra se aplica, seguido por um conjunto de declarações entre chaves { }. As declarações consistem em uma propriedade de estilo seguida por um valor, separados por dois pontos : e terminados com um ponto e vírgula ;.\n",
    "\n",
    "Aqui está um exemplo simples de sintaxe CSS:   "
   ]
  },
  {
   "cell_type": "code",
   "execution_count": 1,
   "metadata": {
    "vscode": {
     "languageId": "html"
    }
   },
   "outputs": [
    {
     "ename": "SyntaxError",
     "evalue": "invalid syntax (768528419.py, line 1)",
     "output_type": "error",
     "traceback": [
      "\u001b[0;36m  Cell \u001b[0;32mIn[1], line 1\u001b[0;36m\u001b[0m\n\u001b[0;31m    <style>\u001b[0m\n\u001b[0m    ^\u001b[0m\n\u001b[0;31mSyntaxError\u001b[0m\u001b[0;31m:\u001b[0m invalid syntax\n"
     ]
    }
   ],
   "source": [
    "<style>\n",
    "\n",
    "seletor {\n",
    "  propriedade: valor;\n",
    "  propriedade: valor;\n",
    "}\n",
    "\n",
    "</style>"
   ]
  },
  {
   "attachments": {},
   "cell_type": "markdown",
   "metadata": {},
   "source": [
    "O seletor identifica o(s) elemento(s) HTML que serão estilizados.\n",
    "\n",
    "As propriedades definem os atributos do estilo que será aplicado aos elementos.\n",
    "\n",
    "Os valores são os parâmetros que as propriedades assumirão.\n",
    "\n",
    "Por exemplo, para estilizar todos os elementos < p> com uma cor de texto vermelha e uma fonte serifada, você pode usar o seguinte código CSS:"
   ]
  },
  {
   "cell_type": "code",
   "execution_count": 2,
   "metadata": {
    "vscode": {
     "languageId": "html"
    }
   },
   "outputs": [
    {
     "ename": "SyntaxError",
     "evalue": "invalid syntax (4050961282.py, line 1)",
     "output_type": "error",
     "traceback": [
      "\u001b[0;36m  Cell \u001b[0;32mIn[2], line 1\u001b[0;36m\u001b[0m\n\u001b[0;31m    <style>\u001b[0m\n\u001b[0m    ^\u001b[0m\n\u001b[0;31mSyntaxError\u001b[0m\u001b[0;31m:\u001b[0m invalid syntax\n"
     ]
    }
   ],
   "source": [
    "<style>\n",
    "\n",
    "p {\n",
    "  color: red;\n",
    "  font-family: serif;\n",
    "}\n",
    "\n",
    "\n",
    "</style>"
   ]
  },
  {
   "attachments": {},
   "cell_type": "markdown",
   "metadata": {},
   "source": [
    "Neste caso, p é o seletor que se aplica a todos os elementos <p>. As propriedades são color e font-family, e seus valores são red e serif, respectivamente.\n",
    "\n",
    "O CSS também oferece muitas outras propriedades de estilo, como tamanho de fonte, largura e altura de elementos, margens, preenchimentos, bordas, alinhamento de texto, posicionamento e muito mais. Ao combinar diferentes propriedades e valores, você pode criar uma ampla variedade de estilos e layouts para sua página da web."
   ]
  },
  {
   "attachments": {},
   "cell_type": "markdown",
   "metadata": {},
   "source": [
    " ### 2.7 Propriedades CSS\n",
    "\n",
    " As propriedades CSS controlam a aparência e o layout dos elementos HTML. Existem muitas propriedades CSS disponíveis para modificar vários aspectos de um elemento, desde sua cor e tamanho até sua posição e fluxo na página. Aqui estão algumas das propriedades CSS mais comuns:\n",
    "\n",
    "* color: define a cor do texto;\n",
    "\n",
    "* font-size: define o tamanho da fonte do texto;\n",
    "\n",
    "* font-family: define o tipo de fonte para o texto;\n",
    "\n",
    "* background-color: define a cor do plano de fundo do elemento;\n",
    "\n",
    "* border: define a borda do elemento, incluindo largura, estilo e cor;\n",
    "\n",
    "* margin: define a margem externa do elemento;\n",
    "\n",
    "* padding: define o preenchimento interno do elemento;\n",
    "\n",
    "* width: define a largura do elemento;\n",
    "\n",
    "* height: define a altura do elemento;\n",
    "\n",
    "* text-align: define o alinhamento do texto;\n",
    "\n",
    "* display: define como o elemento é exibido (bloco, em linha, em linha com bloco, flex etc.);\n",
    "\n",
    "* position: define o tipo de posicionamento do elemento (absoluto, relativo, fixo etc.).\n",
    "\n",
    "Essas propriedades são apenas algumas das muitas disponíveis no CSS. Ao combiná-las de maneiras diferentes, você pode criar estilos exclusivos para seus elementos HTML. É importante lembrar que nem todas as propriedades são aplicáveis a todos os elementos, e algumas propriedades podem ter efeitos diferentes dependendo do tipo de elemento que está sendo estilizado. Além disso, algumas propriedades podem ser herdadas por elementos filhos, enquanto outras não. Portanto, é essencial entender as propriedades CSS e como usá-las efetivamente para criar layouts e estilos consistentes em sua página da web.\n",
    "    "
   ]
  },
  {
   "attachments": {},
   "cell_type": "markdown",
   "metadata": {},
   "source": [
    "### 2.8 Estilização da página com CSS\n",
    "\n",
    "Para estilizar uma página HTML com CSS, é necessário primeiro selecionar os elementos que deseja estilizar. Isso é feito usando seletores CSS, que são padrões que correspondem a um ou mais elementos na página. Em seguida, é necessário definir as propriedades CSS desejadas para esses elementos.\n",
    "\n",
    "Por exemplo, para estilizar um parágrafo em uma página HTML, você pode usar o seguinte código CSS:"
   ]
  },
  {
   "cell_type": "code",
   "execution_count": null,
   "metadata": {
    "vscode": {
     "languageId": "html"
    }
   },
   "outputs": [],
   "source": [
    "<style>\n",
    "\n",
    "p {\n",
    "  color: red;\n",
    "  font-size: 18px;\n",
    "}\n",
    "\n",
    "\n",
    "</style>"
   ]
  },
  {
   "attachments": {},
   "cell_type": "markdown",
   "metadata": {},
   "source": [
    "Aqui, o seletor p é usado para selecionar todos os elementos p na página, e as propriedades CSS color e font-size são definidas como red e 18px, respectivamente. Isso fará com que todos os parágrafos na página sejam exibidos com texto vermelho e uma fonte de tamanho 18.\n",
    "\n",
    "Além disso, você pode usar seletores mais específicos para estilizar apenas elementos específicos na página. Por exemplo, para estilizar uma imagem com um ID específico, você pode usar o seletor # seguido pelo ID da imagem:"
   ]
  },
  {
   "cell_type": "code",
   "execution_count": null,
   "metadata": {
    "vscode": {
     "languageId": "html"
    }
   },
   "outputs": [],
   "source": [
    "<style>\n",
    "\n",
    "#minha-imagem {\n",
    "  width: 200px;\n",
    "  height: 200px;\n",
    "}\n",
    "\n",
    "\n",
    "</style>"
   ]
  },
  {
   "attachments": {},
   "cell_type": "markdown",
   "metadata": {},
   "source": [
    "Isso fará com que a imagem com o ID \"minha-imagem\" tenha uma largura e altura de 200 pixels.\n",
    "\n",
    "Existem muitas propriedades CSS diferentes que você pode usar para estilizar elementos em uma página HTML, como mencionado na resposta anterior. Ao combinar seletores e propriedades CSS, você pode criar layouts e estilos únicos para sua página da web."
   ]
  },
  {
   "attachments": {},
   "cell_type": "markdown",
   "metadata": {},
   "source": [
    "## Semana 2:"
   ]
  },
  {
   "attachments": {},
   "cell_type": "markdown",
   "metadata": {},
   "source": [
    "## Semana 3:"
   ]
  },
  {
   "attachments": {},
   "cell_type": "markdown",
   "metadata": {},
   "source": [
    "# Semana 4:\n"
   ]
  }
 ],
 "metadata": {
  "kernelspec": {
   "display_name": "Python 3",
   "language": "python",
   "name": "python3"
  },
  "language_info": {
   "codemirror_mode": {
    "name": "ipython",
    "version": 3
   },
   "file_extension": ".py",
   "mimetype": "text/x-python",
   "name": "python",
   "nbconvert_exporter": "python",
   "pygments_lexer": "ipython3",
   "version": "3.10.6"
  },
  "orig_nbformat": 4
 },
 "nbformat": 4,
 "nbformat_minor": 2
}
